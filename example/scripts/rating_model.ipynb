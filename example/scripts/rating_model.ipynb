{
 "cells": [
  {
   "cell_type": "code",
   "execution_count": 1,
   "outputs": [],
   "source": [
    "%load_ext autoreload\n",
    "%autoreload 2"
   ],
   "metadata": {
    "collapsed": false,
    "pycharm": {
     "name": "#%%\n"
    }
   }
  },
  {
   "cell_type": "markdown",
   "source": [
    "# Rating models"
   ],
   "metadata": {
    "collapsed": false,
    "pycharm": {
     "name": "#%% md\n"
    }
   }
  },
  {
   "cell_type": "code",
   "execution_count": 4,
   "metadata": {
    "collapsed": true
   },
   "outputs": [],
   "source": [
    "import matplotlib.pyplot as plt\n",
    "\n",
    "from movie_ratings import config\n",
    "from taskchain.task import Config, MultiChain"
   ]
  },
  {
   "cell_type": "code",
   "execution_count": 29,
   "outputs": [
    {
     "name": "stdout",
     "output_type": "stream",
     "text": [
      "all_movies.linear_regression\n"
     ]
    }
   ],
   "source": [
    "chains = MultiChain.from_dir(config.TASKS_DIR, config.CONFIGS_DIR / 'rating_model', global_vars=config)\n",
    "print(chains)"
   ],
   "metadata": {
    "collapsed": false,
    "pycharm": {
     "name": "#%%\n"
    }
   }
  },
  {
   "cell_type": "code",
   "execution_count": 30,
   "outputs": [
    {
     "name": "stdout",
     "output_type": "stream",
     "text": [
      "all_movies          movies:all_movies              imdb.filtered/movies:all_movies\n",
      "movies              movies:movies                  imdb.filtered/movies:movies\n",
      "genres              movies:genres                  imdb.filtered/movies:genres\n",
      "countries           movies:countries               imdb.filtered/movies:countries\n",
      "actors              movies:actors                  imdb.filtered/movies:actors\n",
      "directors           movies:directors               imdb.filtered/movies:directors\n",
      "selected_actors     features:selected_actors       all/features:selected_actors\n",
      "selected_directors  features:selected_directors    all/features:selected_directors\n",
      "all_features        features:all_features          all/features:all_features\n",
      "feature_names       features:feature_names         all/features:feature_names\n",
      "features            features:features              all/features:features\n",
      "all_x               rating_model:all_x             all_movies.linear_regression/rating_model:all_x\n",
      "all_y               rating_model:all_y             all_movies.linear_regression/rating_model:all_y\n",
      "test_movies_mask    rating_model:test_movies_mask  all_movies.linear_regression/rating_model:test_movies_mask\n",
      "train_x             rating_model:train_x           all_movies.linear_regression/rating_model:train_x\n",
      "test_x              rating_model:test_x            all_movies.linear_regression/rating_model:test_x\n",
      "train_y             rating_model:train_y           all_movies.linear_regression/rating_model:train_y\n",
      "test_y              rating_model:test_y            all_movies.linear_regression/rating_model:test_y\n",
      "movie_names         movies:movie_names             imdb.filtered/movies:movie_names\n",
      "duration_histogram  movies:duration_histogram      imdb.filtered/movies:duration_histogram\n",
      "year_histogram      movies:year_histogram          imdb.filtered/movies:year_histogram\n"
     ]
    }
   ],
   "source": [
    "chain = chains.latest()\n",
    "print(chain)"
   ],
   "metadata": {
    "collapsed": false,
    "pycharm": {
     "name": "#%%\n"
    }
   }
  },
  {
   "cell_type": "code",
   "execution_count": 33,
   "outputs": [
    {
     "data": {
      "text/plain": "imdb_title_id\ntt0037514    7.1\ntt0037614    7.5\ntt0038053    6.5\ntt0038238    7.3\ntt0038259    6.7\n            ... \ntt8988748    7.2\ntt9048786    6.2\ntt9354842    6.0\ntt9817018    6.7\ntt9850064    6.5\nName: avg_vote, Length: 1411, dtype: float64"
     },
     "execution_count": 33,
     "metadata": {},
     "output_type": "execute_result"
    }
   ],
   "source": [
    "chain.test_y.value"
   ],
   "metadata": {
    "collapsed": false,
    "pycharm": {
     "name": "#%%\n"
    }
   }
  },
  {
   "cell_type": "code",
   "execution_count": null,
   "outputs": [],
   "source": [],
   "metadata": {
    "collapsed": false,
    "pycharm": {
     "name": "#%%\n"
    }
   }
  }
 ],
 "metadata": {
  "kernelspec": {
   "display_name": "Python 3",
   "language": "python",
   "name": "python3"
  },
  "language_info": {
   "codemirror_mode": {
    "name": "ipython",
    "version": 2
   },
   "file_extension": ".py",
   "mimetype": "text/x-python",
   "name": "python",
   "nbconvert_exporter": "python",
   "pygments_lexer": "ipython2",
   "version": "2.7.6"
  }
 },
 "nbformat": 4,
 "nbformat_minor": 0
}