{
 "cells": [
  {
   "cell_type": "code",
   "execution_count": 1,
   "metadata": {
    "collapsed": false,
    "jupyter": {
     "outputs_hidden": false
    },
    "pycharm": {
     "name": "#%%\n"
    }
   },
   "outputs": [],
   "source": [
    "%load_ext autoreload\n",
    "%autoreload 2"
   ]
  },
  {
   "cell_type": "markdown",
   "metadata": {
    "pycharm": {
     "name": "#%% md\n"
    }
   },
   "source": [
    "# Personal rating models"
   ]
  },
  {
   "cell_type": "code",
   "execution_count": 2,
   "metadata": {},
   "outputs": [],
   "source": [
    "import matplotlib.pyplot as plt\n",
    "\n",
    "from movie_ratings import config\n",
    "from taskchain import MultiChain"
   ]
  },
  {
   "cell_type": "code",
   "execution_count": 3,
   "metadata": {
    "collapsed": false,
    "jupyter": {
     "outputs_hidden": false
    },
    "pycharm": {
     "name": "#%%\n"
    }
   },
   "outputs": [],
   "source": [
    "personal_rating_filename = 'ratings.Thran.csv'\n",
    "\n",
    "chains = MultiChain.from_dir(\n",
    "    config.TASKS_DIR,\n",
    "    config.CONFIGS_DIR / 'rating_model/all_features',\n",
    "    global_vars=config,\n",
    "    context={'user_rating_file': config.DATA_DIR / 'source_data' / personal_rating_filename}\n",
    ")\n",
    "chains.set_log_level('INFO')"
   ]
  },
  {
   "cell_type": "code",
   "execution_count": 4,
   "metadata": {
    "collapsed": false,
    "jupyter": {
     "outputs_hidden": false
    },
    "pycharm": {
     "name": "#%%\n"
    }
   },
   "outputs": [
    {
     "name": "stdout",
     "output_type": "stream",
     "text": [
      "            baseline: 1.270 1.127\n",
      "   linear_regression: 0.974 0.844\n",
      "                  nn: 8.705 8.667\n",
      "tf_linear_regression: 1.230 1.142\n"
     ]
    }
   ],
   "source": [
    "for name, chain in chains.items():\n",
    "    print(f'{name:>20}: {chain.test_metrics.value[\"RMSE\"]:.3f} {chain.test_metrics.value[\"MAE\"]:.3f}')"
   ]
  },
  {
   "cell_type": "code",
   "execution_count": 5,
   "metadata": {
    "collapsed": false,
    "jupyter": {
     "outputs_hidden": false
    },
    "pycharm": {
     "name": "#%%\n"
    }
   },
   "outputs": [
    {
     "name": "stderr",
     "output_type": "stream",
     "text": [
      "rating_model:trained_model - run started with params: model=LinearRegressionRatingModel(normalize=True, regularization=1, solver='auto')\n",
      "rating_model:trained_model - run ended\n",
      "features:features - run started with params: None\n",
      "features:features - run ended\n"
     ]
    },
    {
     "name": "stdout",
     "output_type": "stream",
     "text": [
      "0.3863999888925145 genre_Music\n",
      "0.24858626689132496 genre_Animation\n",
      "0.18033342948401082 genre_War\n",
      "0.1741489781873405 genre_Romance\n",
      "0.15658221177619513 genre_Drama\n",
      "0.08740641649743265 genre_History\n",
      "0.08709657026538334 genre_Comedy\n",
      "0.03267217878118298 genre_Mystery\n",
      "0.014728982594051587 genre_Crime\n",
      "-0.0383683368793887 genre_Action\n",
      "-0.04311190486262134 genre_Adventure\n",
      "-0.048953676644054596 genre_Thriller\n",
      "-0.07219375317800551 genre_Biography\n",
      "-0.15040738615926244 genre_Sci-Fi\n",
      "-0.15733322723904075 genre_Sport\n",
      "-0.16616997690468013 genre_Family\n",
      "-0.2091387950173405 genre_Fantasy\n",
      "-0.2791904475435062 genre_Western\n",
      "-0.35851337879726397 genre_Horror\n"
     ]
    }
   ],
   "source": [
    "chain = chains['linear_regression']\n",
    "model = chain.trained_model.value\n",
    "coefs = model.model.coef_\n",
    "\n",
    "feature_type = 'genre'\n",
    "for coef, name in sorted(zip(coefs, chain.features.value.columns), reverse=True):\n",
    "    if name.startswith(feature_type) and coef:\n",
    "        print(coef, name)"
   ]
  },
  {
   "cell_type": "code",
   "execution_count": null,
   "metadata": {
    "collapsed": false,
    "jupyter": {
     "outputs_hidden": false
    },
    "pycharm": {
     "name": "#%%\n"
    }
   },
   "outputs": [],
   "source": []
  }
 ],
 "metadata": {
  "kernelspec": {
   "display_name": "Python 3",
   "language": "python",
   "name": "python3"
  },
  "language_info": {
   "codemirror_mode": {
    "name": "ipython",
    "version": 3
   },
   "file_extension": ".py",
   "mimetype": "text/x-python",
   "name": "python",
   "nbconvert_exporter": "python",
   "pygments_lexer": "ipython3",
   "version": "3.8.5"
  }
 },
 "nbformat": 4,
 "nbformat_minor": 4
}