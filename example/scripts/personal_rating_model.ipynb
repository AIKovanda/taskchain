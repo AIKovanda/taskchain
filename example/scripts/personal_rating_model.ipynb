{
 "cells": [
  {
   "cell_type": "code",
   "execution_count": 1,
   "outputs": [],
   "source": [
    "%load_ext autoreload\n",
    "%autoreload 2"
   ],
   "metadata": {
    "collapsed": false,
    "pycharm": {
     "name": "#%%\n"
    }
   }
  },
  {
   "cell_type": "markdown",
   "source": [
    "# Personal rating models"
   ],
   "metadata": {
    "collapsed": false,
    "pycharm": {
     "name": "#%% md\n"
    }
   }
  },
  {
   "cell_type": "code",
   "execution_count": 2,
   "metadata": {
    "collapsed": true
   },
   "outputs": [],
   "source": [
    "import matplotlib.pyplot as plt\n",
    "\n",
    "from movie_ratings import config\n",
    "from taskchain.task import MultiChain"
   ]
  },
  {
   "cell_type": "code",
   "execution_count": 8,
   "outputs": [
    {
     "name": "stdout",
     "output_type": "stream",
     "text": [
      "baseline\n",
      "linear_regression\n",
      "nn\n",
      "tf_linear_regression\n"
     ]
    }
   ],
   "source": [
    "personal_rating_filename = 'ratings.Thran.csv'\n",
    "\n",
    "chains = MultiChain.from_dir(\n",
    "    config.TASKS_DIR,\n",
    "    config.CONFIGS_DIR / 'rating_model/all_movies',\n",
    "    global_vars=config,\n",
    "    context={'user_rating_file': config.DATA_DIR / 'source_data' / personal_rating_filename}\n",
    ")\n",
    "chains.set_log_level('INFO')"
   ],
   "metadata": {
    "collapsed": false,
    "pycharm": {
     "name": "#%%\n"
    }
   }
  },
  {
   "cell_type": "code",
   "execution_count": 13,
   "outputs": [
    {
     "name": "stdout",
     "output_type": "stream",
     "text": [
      "            baseline: 1.270 1.127\n",
      "   linear_regression: 0.974 0.844\n",
      "                  nn: 8.705 8.667\n",
      "tf_linear_regression: 1.230 1.142\n"
     ]
    }
   ],
   "source": [
    "for name, chain in chains.items():\n",
    "    print(f'{name:>20}: {chain.test_metrics.value[\"RMSE\"]:.3f} {chain.test_metrics.value[\"MAE\"]:.3f}')"
   ],
   "metadata": {
    "collapsed": false,
    "pycharm": {
     "name": "#%%\n"
    }
   }
  },
  {
   "cell_type": "code",
   "execution_count": 29,
   "outputs": [
    {
     "name": "stdout",
     "output_type": "stream",
     "text": [
      "0.9168255667639088 country_South Africa\n",
      "0.41464133917139084 country_Hungary\n",
      "0.2720280824961161 country_South Korea\n",
      "0.26650008621738697 country_Sweden\n",
      "0.26650008621738697 country_Denmark\n",
      "0.22351172324463855 country_Australia\n",
      "0.21127906381212616 country_Taiwan\n",
      "0.15061487717810154 country_Malta\n",
      "0.12899126413494294 country_Morocco\n",
      "0.08090165721779354 country_Mexico\n",
      "0.057412342007297015 country_Spain\n",
      "0.033995849666993025 country_Hong Kong\n",
      "-0.011411263752821414 country_United Arab Emirates\n",
      "-0.011411263752821414 country_Thailand\n",
      "-0.011411263752821414 country_Singapore\n",
      "-0.011411263752821414 country_Belgium\n",
      "-0.020756907809113483 country_Russia\n",
      "-0.0779667076583624 country_UK\n",
      "-0.08852020733232498 country_Austria\n",
      "-0.09317881180390908 country_China\n",
      "-0.11459451623439391 country_Germany\n",
      "-0.13414713463202452 country_New Zealand\n",
      "-0.13586627082923153 country_Japan\n",
      "-0.14627762410315948 country_Canada\n",
      "-0.14780259397198117 country_USA\n",
      "-0.24343756840807437 country_France\n",
      "-0.28572107912273653 country_Italy\n",
      "-0.3837101595790827 country_India\n",
      "-0.4368470647604571 country_Czech Republic\n",
      "-0.43746675737921603 country_Brazil\n",
      "-0.48771356527863646 country_Iceland\n"
     ]
    }
   ],
   "source": [
    "chain = chains['linear_regression']\n",
    "model = chain.trained_model.value\n",
    "coefs = model.model.coef_\n",
    "\n",
    "feature_type = 'country'\n",
    "for coef, name in sorted(zip(coefs, chain.features.value.columns), reverse=True):\n",
    "    if name.startswith(feature_type) and coef:\n",
    "        print(coef, name)"
   ],
   "metadata": {
    "collapsed": false,
    "pycharm": {
     "name": "#%%\n"
    }
   }
  },
  {
   "cell_type": "code",
   "execution_count": null,
   "outputs": [],
   "source": [],
   "metadata": {
    "collapsed": false,
    "pycharm": {
     "name": "#%%\n"
    }
   }
  }
 ],
 "metadata": {
  "kernelspec": {
   "display_name": "Python 3",
   "language": "python",
   "name": "python3"
  },
  "language_info": {
   "codemirror_mode": {
    "name": "ipython",
    "version": 2
   },
   "file_extension": ".py",
   "mimetype": "text/x-python",
   "name": "python",
   "nbconvert_exporter": "python",
   "pygments_lexer": "ipython2",
   "version": "2.7.6"
  }
 },
 "nbformat": 4,
 "nbformat_minor": 0
}