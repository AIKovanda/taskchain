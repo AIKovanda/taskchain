{
 "cells": [
  {
   "cell_type": "markdown",
   "metadata": {},
   "source": [
    "# Introduction to TaskChain via Example project"
   ]
  },
  {
   "cell_type": "code",
   "execution_count": null,
   "metadata": {},
   "outputs": [],
   "source": [
    "%load_ext autoreload\n",
    "%autoreload 2"
   ]
  },
  {
   "cell_type": "code",
   "execution_count": null,
   "metadata": {
    "pycharm": {
     "name": "#%%\n"
    }
   },
   "outputs": [],
   "source": [
    "from movie_ratings import config\n",
    "from taskchain import Config\n",
    "\n",
    "from pathlib import Path"
   ]
  },
  {
   "cell_type": "markdown",
   "metadata": {},
   "source": [
    "###  Let's see our source data"
   ]
  },
  {
   "cell_type": "code",
   "execution_count": null,
   "metadata": {},
   "outputs": [],
   "source": [
    "!tree {config.DATA_DIR}/source_data"
   ]
  },
  {
   "cell_type": "code",
   "execution_count": null,
   "metadata": {},
   "outputs": [],
   "source": [
    "# path where TaskChain store all data\n",
    "task_data_path = Path('/tmp/task_data')"
   ]
  },
  {
   "cell_type": "markdown",
   "metadata": {},
   "source": [
    "## Explore IMDB movies"
   ]
  },
  {
   "cell_type": "markdown",
   "metadata": {},
   "source": [
    "### 1. start with a config"
   ]
  },
  {
   "cell_type": "code",
   "execution_count": null,
   "metadata": {},
   "outputs": [],
   "source": [
    "# all configs in project\n",
    "!tree {config.CONFIGS_DIR}"
   ]
  },
  {
   "cell_type": "code",
   "execution_count": null,
   "metadata": {},
   "outputs": [],
   "source": [
    "config_path = config.CONFIGS_DIR / 'movies' / 'imdb.filtered.yaml'"
   ]
  },
  {
   "cell_type": "code",
   "execution_count": null,
   "metadata": {},
   "outputs": [],
   "source": [
    "with config_path.open() as f:\n",
    "    print(f.read())"
   ]
  },
  {
   "cell_type": "markdown",
   "metadata": {},
   "source": [
    "#### content of the config\n",
    "\n",
    "- decleres tasks witch will be part of chain\n",
    "- and some parametersparameters\n",
    "    - where take source data\n",
    "    - movies will be filtered to older then 1945 and with at least 1000 ratings \n"
   ]
  },
  {
   "cell_type": "markdown",
   "metadata": {},
   "source": [
    "### 2. Create chain "
   ]
  },
  {
   "cell_type": "code",
   "execution_count": null,
   "metadata": {},
   "outputs": [],
   "source": [
    "chain = Config(\n",
    "    task_data_path, # where should by data stored\n",
    "    config_path,\n",
    "    global_vars=config,  # set global variables\n",
    ").chain()\n",
    "chain.set_log_level('DEBUG')\n",
    "\n",
    "# show tasks\n",
    "chain"
   ]
  },
  {
   "cell_type": "code",
   "execution_count": null,
   "metadata": {},
   "outputs": [],
   "source": [
    "chain.draw()"
   ]
  },
  {
   "cell_type": "markdown",
   "metadata": {},
   "source": [
    "### 3. Compute and get data "
   ]
  },
  {
   "cell_type": "code",
   "execution_count": null,
   "metadata": {},
   "outputs": [],
   "source": [
    "# access task\n",
    "chain.duration_histogram"
   ]
  },
  {
   "cell_type": "code",
   "execution_count": null,
   "metadata": {},
   "outputs": [],
   "source": [
    "# access data\n",
    "chain.duration_histogram.value"
   ]
  },
  {
   "cell_type": "code",
   "execution_count": null,
   "metadata": {},
   "outputs": [],
   "source": [
    "# we have some data computed !\n",
    "chain"
   ]
  },
  {
   "cell_type": "code",
   "execution_count": null,
   "metadata": {},
   "outputs": [],
   "source": [
    "# show some task computation details\n",
    "chain.duration_histogram.run_info"
   ]
  },
  {
   "cell_type": "markdown",
   "metadata": {},
   "source": [
    "## Explore models"
   ]
  },
  {
   "cell_type": "code",
   "execution_count": null,
   "metadata": {},
   "outputs": [],
   "source": [
    "from taskchain import MultiChain\n",
    "\n",
    "# with multichain, we can make multiple chains at once\n",
    "chains = MultiChain.from_dir(\n",
    "    task_data_path, \n",
    "    config.CONFIGS_DIR / 'rating_model' / 'all_features', \n",
    "    global_vars=config,\n",
    ")\n",
    "chains"
   ]
  },
  {
   "cell_type": "code",
   "execution_count": null,
   "metadata": {
    "tags": []
   },
   "outputs": [],
   "source": [
    "# get a chain - note that some tasks have already computed data from exploring movies\n",
    "chains['baseline']"
   ]
  },
  {
   "cell_type": "code",
   "execution_count": null,
   "metadata": {
    "tags": []
   },
   "outputs": [],
   "source": [
    "chains['baseline'].draw()"
   ]
  },
  {
   "cell_type": "code",
   "execution_count": null,
   "metadata": {},
   "outputs": [],
   "source": [
    "# request test_metrics and trigger computation of all necceserray tasks (feature preparation, model training etc.)\n",
    "chains['baseline'].test_metrics.value"
   ]
  },
  {
   "cell_type": "code",
   "execution_count": null,
   "metadata": {},
   "outputs": [],
   "source": [
    "# now get metrics for all models - not only training of new models is done, features are already computed and loaded\n",
    "for name, chain in chains.items():\n",
    "    _ = chain.test_metrics.value\n",
    "\n",
    "for name, chain in chains.items():\n",
    "    print(f'{name:>20}: {chain.test_metrics.value[\"RMSE\"]:.3f} {chain.test_metrics.value[\"MAE\"]:.3f}')\n"
   ]
  },
  {
   "cell_type": "markdown",
   "metadata": {},
   "source": [
    "## Exercise \n",
    "\n",
    "- add own config\n",
    "    - for movies movies with different filtering - task `all_movies` shoud not be recomputed\n",
    "    - for models trained only on personal data\n",
    "        - set `user_rating_file` parameter \n",
    "- add own tasks\n",
    "    - e.g. for analyse ratings per ganres\n",
    "        - avg\n",
    "        - histograms\n",
    "        - the best genre combination\n",
    "- add own pipeline\n",
    "    - analyze personal ratings\n",
    "    - movies as prerequisite to get more data about movies\n",
    "    - use your imagination on what analasys is interesting\n"
   ]
  }
 ],
 "metadata": {
  "kernelspec": {
   "display_name": "Python 3",
   "language": "python",
   "name": "python3"
  },
  "language_info": {
   "codemirror_mode": {
    "name": "ipython",
    "version": 3
   },
   "file_extension": ".py",
   "mimetype": "text/x-python",
   "name": "python",
   "nbconvert_exporter": "python",
   "pygments_lexer": "ipython3",
   "version": "3.8.5"
  }
 },
 "nbformat": 4,
 "nbformat_minor": 4
}
