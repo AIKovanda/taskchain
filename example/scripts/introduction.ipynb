{
 "cells": [
  {
   "cell_type": "markdown",
   "metadata": {},
   "source": [
    "# Introduction to TaskChain via Example project"
   ]
  },
  {
   "cell_type": "code",
   "execution_count": 1,
   "metadata": {},
   "outputs": [],
   "source": [
    "%load_ext autoreload\n",
    "%autoreload 2"
   ]
  },
  {
   "cell_type": "code",
   "execution_count": 2,
   "metadata": {
    "pycharm": {
     "name": "#%%\n"
    }
   },
   "outputs": [],
   "source": [
    "from movie_ratings import config\n",
    "from taskchain import Config\n",
    "\n",
    "from pathlib import Path"
   ]
  },
  {
   "cell_type": "markdown",
   "metadata": {},
   "source": [
    "###  Let's see our source data"
   ]
  },
  {
   "cell_type": "code",
   "execution_count": 3,
   "metadata": {},
   "outputs": [
    {
     "name": "stdout",
     "output_type": "stream",
     "text": [
      "\u001b[01;34m/home/thran/projects/taskchain/example/data/source_data\u001b[0m\n",
      "├── IMDB_movies.csv\n",
      "└── ratings.Thran.csv\n",
      "\n",
      "0 directories, 2 files\n"
     ]
    }
   ],
   "source": [
    "!tree {config.DATA_DIR}/source_data"
   ]
  },
  {
   "cell_type": "code",
   "execution_count": 4,
   "metadata": {},
   "outputs": [],
   "source": [
    "# path where TaskChain store all data\n",
    "task_data_path = Path('/tmp/task_data')"
   ]
  },
  {
   "cell_type": "markdown",
   "metadata": {},
   "source": [
    "## Explore IMDB movies"
   ]
  },
  {
   "cell_type": "markdown",
   "metadata": {},
   "source": [
    "### 1. start with a config"
   ]
  },
  {
   "cell_type": "code",
   "execution_count": 5,
   "metadata": {},
   "outputs": [
    {
     "name": "stdout",
     "output_type": "stream",
     "text": [
      "\u001b[01;34m/home/thran/projects/taskchain/example/configs\u001b[0m\n",
      "├── \u001b[01;34mfeatures\u001b[0m\n",
      "│   ├── all.yaml\n",
      "│   └── basic.yaml\n",
      "├── \u001b[01;34mmovies\u001b[0m\n",
      "│   ├── imdb.all.yaml\n",
      "│   └── imdb.filtered.yaml\n",
      "└── \u001b[01;34mrating_model\u001b[0m\n",
      "    ├── \u001b[01;34mall_features\u001b[0m\n",
      "    │   ├── baseline.yaml\n",
      "    │   ├── linear_regression.yaml\n",
      "    │   ├── nn.yaml\n",
      "    │   └── tf_linear_regression.yaml\n",
      "    └── \u001b[01;34mbasic_features\u001b[0m\n",
      "        ├── baseline.yaml\n",
      "        └── linear_regression.yaml\n",
      "\n",
      "5 directories, 10 files\n"
     ]
    }
   ],
   "source": [
    "# all configs in project\n",
    "!tree {config.CONFIGS_DIR}"
   ]
  },
  {
   "cell_type": "code",
   "execution_count": 6,
   "metadata": {},
   "outputs": [],
   "source": [
    "config_path = config.CONFIGS_DIR / 'movies' / 'imdb.filtered.yaml'"
   ]
  },
  {
   "cell_type": "code",
   "execution_count": 7,
   "metadata": {},
   "outputs": [
    {
     "name": "stdout",
     "output_type": "stream",
     "text": [
      "tasks:\n",
      "  - movie_ratings.tasks.movies.*\n",
      "\n",
      "source_file: \"{DATA_DIR}/source_data/IMDB_movies.csv\"\n",
      "\n",
      "from_year: 1945\n",
      "min_vote_count: 1000\n",
      "\n"
     ]
    }
   ],
   "source": [
    "with config_path.open() as f:\n",
    "    print(f.read())"
   ]
  },
  {
   "cell_type": "markdown",
   "metadata": {},
   "source": [
    "#### content of the config\n",
    "\n",
    "- decleres tasks witch will be part of chain\n",
    "- and some parametersparameters\n",
    "    - where take source data\n",
    "    - movies will be filtered to older then 1945 and with at least 1000 ratings \n"
   ]
  },
  {
   "cell_type": "markdown",
   "metadata": {},
   "source": [
    "### 2. Create chain "
   ]
  },
  {
   "cell_type": "code",
   "execution_count": 8,
   "metadata": {},
   "outputs": [
    {
     "data": {
      "text/markdown": [
       "|                           | name               | group   | namespace   | computed   |\n",
       "|:--------------------------|:-------------------|:--------|:------------|:-----------|\n",
       "| movies:all_movies         | all_movies         | movies  |             | True       |\n",
       "| movies:movies             | movies             | movies  |             | True       |\n",
       "| movies:movie_names        | movie_names        | movies  |             | False      |\n",
       "| movies:duration_histogram | duration_histogram | movies  |             | True       |\n",
       "| movies:year_histogram     | year_histogram     | movies  |             | False      |\n",
       "| movies:directors          | directors          | movies  |             | True       |\n",
       "| movies:genres             | genres             | movies  |             | True       |\n",
       "| movies:countries          | countries          | movies  |             | True       |\n",
       "| movies:actors             | actors             | movies  |             | True       |"
      ],
      "text/plain": [
       "<chain for config `imdb.filtered`>"
      ]
     },
     "execution_count": 8,
     "metadata": {},
     "output_type": "execute_result"
    }
   ],
   "source": [
    "chain = Config(\n",
    "    task_data_path, # where should by data stored\n",
    "    config_path,\n",
    "    global_vars=config,  # set global variables\n",
    ").chain()\n",
    "chain.set_log_level('DEBUG')\n",
    "\n",
    "# show tasks\n",
    "chain"
   ]
  },
  {
   "cell_type": "code",
   "execution_count": 9,
   "metadata": {},
   "outputs": [
    {
     "data": {
      "image/svg+xml": [
       "<?xml version=\"1.0\" encoding=\"UTF-8\" standalone=\"no\"?>\n",
       "<!DOCTYPE svg PUBLIC \"-//W3C//DTD SVG 1.1//EN\"\n",
       " \"http://www.w3.org/Graphics/SVG/1.1/DTD/svg11.dtd\">\n",
       "<!-- Generated by graphviz version 2.44.0 (0)\n",
       " -->\n",
       "<!-- Pages: 1 -->\n",
       "<svg width=\"1138pt\" height=\"188pt\"\n",
       " viewBox=\"0.00 0.00 1138.00 188.00\" xmlns=\"http://www.w3.org/2000/svg\" xmlns:xlink=\"http://www.w3.org/1999/xlink\">\n",
       "<g id=\"graph0\" class=\"graph\" transform=\"scale(1 1) rotate(0) translate(4 184)\">\n",
       "<polygon fill=\"white\" stroke=\"transparent\" points=\"-4,4 -4,-184 1134,-184 1134,4 -4,4\"/>\n",
       "<!-- directors#b3956bfda39181bddbe5203725bd0abe -->\n",
       "<g id=\"node1\" class=\"node\">\n",
       "<title>directors#b3956bfda39181bddbe5203725bd0abe</title>\n",
       "<polygon fill=\"#a1c9f4\" stroke=\"black\" points=\"144,-36 0,-36 0,0 144,0 144,-36\"/>\n",
       "<text text-anchor=\"start\" x=\"51\" y=\"-21.8\" font-family=\"Times-Roman\" font-size=\"10.00\">movies</text>\n",
       "<text text-anchor=\"start\" x=\"88\" y=\"-21.8\" font-family=\"Times-Roman\" font-size=\"14.00\"> </text>\n",
       "<text text-anchor=\"start\" x=\"39\" y=\"-7.8\" font-family=\"Times-Roman\" font-size=\"14.00\"> directors</text>\n",
       "</g>\n",
       "<!-- duration_histogram#a1b18bbb1f497f2fa255337f8d9ff81e -->\n",
       "<g id=\"node2\" class=\"node\">\n",
       "<title>duration_histogram#a1b18bbb1f497f2fa255337f8d9ff81e</title>\n",
       "<polygon fill=\"#a1c9f4\" stroke=\"black\" points=\"319.5,-36 162.5,-36 162.5,0 319.5,0 319.5,-36\"/>\n",
       "<text text-anchor=\"start\" x=\"220\" y=\"-21.8\" font-family=\"Times-Roman\" font-size=\"10.00\">movies</text>\n",
       "<text text-anchor=\"start\" x=\"257\" y=\"-21.8\" font-family=\"Times-Roman\" font-size=\"14.00\"> </text>\n",
       "<text text-anchor=\"start\" x=\"170.5\" y=\"-7.8\" font-family=\"Times-Roman\" font-size=\"14.00\"> duration_histogram</text>\n",
       "</g>\n",
       "<!-- movie_names#b3956bfda39181bddbe5203725bd0abe -->\n",
       "<g id=\"node3\" class=\"node\">\n",
       "<title>movie_names#b3956bfda39181bddbe5203725bd0abe</title>\n",
       "<polygon fill=\"#a1c9f4\" stroke=\"black\" stroke-dasharray=\"5,2\" points=\"482,-36 338,-36 338,0 482,0 482,-36\"/>\n",
       "<text text-anchor=\"start\" x=\"389\" y=\"-21.8\" font-family=\"Times-Roman\" font-size=\"10.00\">movies</text>\n",
       "<text text-anchor=\"start\" x=\"426\" y=\"-21.8\" font-family=\"Times-Roman\" font-size=\"14.00\"> </text>\n",
       "<text text-anchor=\"start\" x=\"360\" y=\"-7.8\" font-family=\"Times-Roman\" font-size=\"14.00\"> movie_names</text>\n",
       "</g>\n",
       "<!-- genres#b3956bfda39181bddbe5203725bd0abe -->\n",
       "<g id=\"node4\" class=\"node\">\n",
       "<title>genres#b3956bfda39181bddbe5203725bd0abe</title>\n",
       "<polygon fill=\"#a1c9f4\" stroke=\"black\" points=\"644,-36 500,-36 500,0 644,0 644,-36\"/>\n",
       "<text text-anchor=\"start\" x=\"551\" y=\"-21.8\" font-family=\"Times-Roman\" font-size=\"10.00\">movies</text>\n",
       "<text text-anchor=\"start\" x=\"588\" y=\"-21.8\" font-family=\"Times-Roman\" font-size=\"14.00\"> </text>\n",
       "<text text-anchor=\"start\" x=\"546\" y=\"-7.8\" font-family=\"Times-Roman\" font-size=\"14.00\"> genres</text>\n",
       "</g>\n",
       "<!-- year_histogram#b3956bfda39181bddbe5203725bd0abe -->\n",
       "<g id=\"node5\" class=\"node\">\n",
       "<title>year_histogram#b3956bfda39181bddbe5203725bd0abe</title>\n",
       "<polygon fill=\"#a1c9f4\" stroke=\"black\" stroke-dasharray=\"5,2\" points=\"806,-36 662,-36 662,0 806,0 806,-36\"/>\n",
       "<text text-anchor=\"start\" x=\"713\" y=\"-21.8\" font-family=\"Times-Roman\" font-size=\"10.00\">movies</text>\n",
       "<text text-anchor=\"start\" x=\"750\" y=\"-21.8\" font-family=\"Times-Roman\" font-size=\"14.00\"> </text>\n",
       "<text text-anchor=\"start\" x=\"677.5\" y=\"-7.8\" font-family=\"Times-Roman\" font-size=\"14.00\"> year_histogram</text>\n",
       "</g>\n",
       "<!-- all_movies#436f7a5e06e540716b275a5f84499a78 -->\n",
       "<g id=\"node6\" class=\"node\">\n",
       "<title>all_movies#436f7a5e06e540716b275a5f84499a78</title>\n",
       "<polygon fill=\"#a1c9f4\" stroke=\"black\" points=\"644,-180 500,-180 500,-144 644,-144 644,-180\"/>\n",
       "<text text-anchor=\"start\" x=\"551\" y=\"-165.8\" font-family=\"Times-Roman\" font-size=\"10.00\">movies</text>\n",
       "<text text-anchor=\"start\" x=\"588\" y=\"-165.8\" font-family=\"Times-Roman\" font-size=\"14.00\"> </text>\n",
       "<text text-anchor=\"start\" x=\"533.5\" y=\"-151.8\" font-family=\"Times-Roman\" font-size=\"14.00\"> all_movies</text>\n",
       "</g>\n",
       "<!-- movies#df0ae4cf1dc452b45acd1cee4981c74a -->\n",
       "<g id=\"node7\" class=\"node\">\n",
       "<title>movies#df0ae4cf1dc452b45acd1cee4981c74a</title>\n",
       "<polygon fill=\"#a1c9f4\" stroke=\"black\" points=\"644,-108 500,-108 500,-72 644,-72 644,-108\"/>\n",
       "<text text-anchor=\"start\" x=\"551\" y=\"-93.8\" font-family=\"Times-Roman\" font-size=\"10.00\">movies</text>\n",
       "<text text-anchor=\"start\" x=\"588\" y=\"-93.8\" font-family=\"Times-Roman\" font-size=\"14.00\"> </text>\n",
       "<text text-anchor=\"start\" x=\"544.5\" y=\"-79.8\" font-family=\"Times-Roman\" font-size=\"14.00\"> movies</text>\n",
       "</g>\n",
       "<!-- all_movies#436f7a5e06e540716b275a5f84499a78&#45;&gt;movies#df0ae4cf1dc452b45acd1cee4981c74a -->\n",
       "<g id=\"edge1\" class=\"edge\">\n",
       "<title>all_movies#436f7a5e06e540716b275a5f84499a78&#45;&gt;movies#df0ae4cf1dc452b45acd1cee4981c74a</title>\n",
       "<path fill=\"none\" stroke=\"black\" d=\"M572,-143.83C572,-143.83 572,-118.41 572,-118.41\"/>\n",
       "<polygon fill=\"black\" stroke=\"black\" points=\"575.5,-118.41 572,-108.41 568.5,-118.41 575.5,-118.41\"/>\n",
       "</g>\n",
       "<!-- movies#df0ae4cf1dc452b45acd1cee4981c74a&#45;&gt;directors#b3956bfda39181bddbe5203725bd0abe -->\n",
       "<g id=\"edge5\" class=\"edge\">\n",
       "<title>movies#df0ae4cf1dc452b45acd1cee4981c74a&#45;&gt;directors#b3956bfda39181bddbe5203725bd0abe</title>\n",
       "<path fill=\"none\" stroke=\"black\" d=\"M499.83,-99C361.36,-99 72,-99 72,-99 72,-99 72,-46.38 72,-46.38\"/>\n",
       "<polygon fill=\"black\" stroke=\"black\" points=\"75.5,-46.38 72,-36.38 68.5,-46.38 75.5,-46.38\"/>\n",
       "</g>\n",
       "<!-- movies#df0ae4cf1dc452b45acd1cee4981c74a&#45;&gt;duration_histogram#a1b18bbb1f497f2fa255337f8d9ff81e -->\n",
       "<g id=\"edge3\" class=\"edge\">\n",
       "<title>movies#df0ae4cf1dc452b45acd1cee4981c74a&#45;&gt;duration_histogram#a1b18bbb1f497f2fa255337f8d9ff81e</title>\n",
       "<path fill=\"none\" stroke=\"black\" d=\"M499.77,-90C402.38,-90 241,-90 241,-90 241,-90 241,-46.17 241,-46.17\"/>\n",
       "<polygon fill=\"black\" stroke=\"black\" points=\"244.5,-46.17 241,-36.17 237.5,-46.17 244.5,-46.17\"/>\n",
       "</g>\n",
       "<!-- movies#df0ae4cf1dc452b45acd1cee4981c74a&#45;&gt;movie_names#b3956bfda39181bddbe5203725bd0abe -->\n",
       "<g id=\"edge2\" class=\"edge\">\n",
       "<title>movies#df0ae4cf1dc452b45acd1cee4981c74a&#45;&gt;movie_names#b3956bfda39181bddbe5203725bd0abe</title>\n",
       "<path fill=\"none\" stroke=\"black\" d=\"M499.53,-81C456.4,-81 410,-81 410,-81 410,-81 410,-46.22 410,-46.22\"/>\n",
       "<polygon fill=\"black\" stroke=\"black\" points=\"413.5,-46.22 410,-36.22 406.5,-46.22 413.5,-46.22\"/>\n",
       "</g>\n",
       "<!-- movies#df0ae4cf1dc452b45acd1cee4981c74a&#45;&gt;genres#b3956bfda39181bddbe5203725bd0abe -->\n",
       "<g id=\"edge6\" class=\"edge\">\n",
       "<title>movies#df0ae4cf1dc452b45acd1cee4981c74a&#45;&gt;genres#b3956bfda39181bddbe5203725bd0abe</title>\n",
       "<path fill=\"none\" stroke=\"black\" d=\"M572,-71.83C572,-71.83 572,-46.41 572,-46.41\"/>\n",
       "<polygon fill=\"black\" stroke=\"black\" points=\"575.5,-46.41 572,-36.41 568.5,-46.41 575.5,-46.41\"/>\n",
       "</g>\n",
       "<!-- movies#df0ae4cf1dc452b45acd1cee4981c74a&#45;&gt;year_histogram#b3956bfda39181bddbe5203725bd0abe -->\n",
       "<g id=\"edge4\" class=\"edge\">\n",
       "<title>movies#df0ae4cf1dc452b45acd1cee4981c74a&#45;&gt;year_histogram#b3956bfda39181bddbe5203725bd0abe</title>\n",
       "<path fill=\"none\" stroke=\"black\" d=\"M644.47,-81C687.6,-81 734,-81 734,-81 734,-81 734,-46.22 734,-46.22\"/>\n",
       "<polygon fill=\"black\" stroke=\"black\" points=\"737.5,-46.22 734,-36.22 730.5,-46.22 737.5,-46.22\"/>\n",
       "</g>\n",
       "<!-- countries#b3956bfda39181bddbe5203725bd0abe -->\n",
       "<g id=\"node8\" class=\"node\">\n",
       "<title>countries#b3956bfda39181bddbe5203725bd0abe</title>\n",
       "<polygon fill=\"#a1c9f4\" stroke=\"black\" points=\"968,-36 824,-36 824,0 968,0 968,-36\"/>\n",
       "<text text-anchor=\"start\" x=\"875\" y=\"-21.8\" font-family=\"Times-Roman\" font-size=\"10.00\">movies</text>\n",
       "<text text-anchor=\"start\" x=\"912\" y=\"-21.8\" font-family=\"Times-Roman\" font-size=\"14.00\"> </text>\n",
       "<text text-anchor=\"start\" x=\"861\" y=\"-7.8\" font-family=\"Times-Roman\" font-size=\"14.00\"> countries</text>\n",
       "</g>\n",
       "<!-- movies#df0ae4cf1dc452b45acd1cee4981c74a&#45;&gt;countries#b3956bfda39181bddbe5203725bd0abe -->\n",
       "<g id=\"edge7\" class=\"edge\">\n",
       "<title>movies#df0ae4cf1dc452b45acd1cee4981c74a&#45;&gt;countries#b3956bfda39181bddbe5203725bd0abe</title>\n",
       "<path fill=\"none\" stroke=\"black\" d=\"M644.31,-90C739.8,-90 896,-90 896,-90 896,-90 896,-46.17 896,-46.17\"/>\n",
       "<polygon fill=\"black\" stroke=\"black\" points=\"899.5,-46.17 896,-36.17 892.5,-46.17 899.5,-46.17\"/>\n",
       "</g>\n",
       "<!-- actors#b3956bfda39181bddbe5203725bd0abe -->\n",
       "<g id=\"node9\" class=\"node\">\n",
       "<title>actors#b3956bfda39181bddbe5203725bd0abe</title>\n",
       "<polygon fill=\"#a1c9f4\" stroke=\"black\" points=\"1130,-36 986,-36 986,0 1130,0 1130,-36\"/>\n",
       "<text text-anchor=\"start\" x=\"1037\" y=\"-21.8\" font-family=\"Times-Roman\" font-size=\"10.00\">movies</text>\n",
       "<text text-anchor=\"start\" x=\"1074\" y=\"-21.8\" font-family=\"Times-Roman\" font-size=\"14.00\"> </text>\n",
       "<text text-anchor=\"start\" x=\"1034\" y=\"-7.8\" font-family=\"Times-Roman\" font-size=\"14.00\"> actors</text>\n",
       "</g>\n",
       "<!-- movies#df0ae4cf1dc452b45acd1cee4981c74a&#45;&gt;actors#b3956bfda39181bddbe5203725bd0abe -->\n",
       "<g id=\"edge8\" class=\"edge\">\n",
       "<title>movies#df0ae4cf1dc452b45acd1cee4981c74a&#45;&gt;actors#b3956bfda39181bddbe5203725bd0abe</title>\n",
       "<path fill=\"none\" stroke=\"black\" d=\"M644.23,-99C779.62,-99 1058,-99 1058,-99 1058,-99 1058,-46.38 1058,-46.38\"/>\n",
       "<polygon fill=\"black\" stroke=\"black\" points=\"1061.5,-46.38 1058,-36.38 1054.5,-46.38 1061.5,-46.38\"/>\n",
       "</g>\n",
       "</g>\n",
       "</svg>\n"
      ],
      "text/plain": [
       "<graphviz.dot.Digraph at 0x7f6dafa445b0>"
      ]
     },
     "execution_count": 9,
     "metadata": {},
     "output_type": "execute_result"
    }
   ],
   "source": [
    "chain.draw()"
   ]
  },
  {
   "cell_type": "markdown",
   "metadata": {},
   "source": [
    "### 3. Compute and get data "
   ]
  },
  {
   "cell_type": "code",
   "execution_count": 10,
   "metadata": {},
   "outputs": [
    {
     "data": {
      "text/markdown": [
       "**duration_histogram** \n",
       " - fullname: `movies:duration_histogram` \n",
       " - group: `movies` \n",
       " - config: `imdb.filtered/movies:duration_histogram` \n",
       " - data: `/tmp/task_data/movies/duration_histogram/a1b18bbb1f497f2fa255337f8d9ff81e.pickle` \n"
      ],
      "text/plain": [
       "<task: movies:duration_histogram>"
      ]
     },
     "execution_count": 10,
     "metadata": {},
     "output_type": "execute_result"
    }
   ],
   "source": [
    "# access task\n",
    "chain.duration_histogram"
   ]
  },
  {
   "cell_type": "code",
   "execution_count": 11,
   "metadata": {},
   "outputs": [
    {
     "data": {
      "text/plain": [
       "<Figure size 432x288 with 0 Axes>"
      ]
     },
     "execution_count": 11,
     "metadata": {},
     "output_type": "execute_result"
    }
   ],
   "source": [
    "# access data\n",
    "chain.duration_histogram.value"
   ]
  },
  {
   "cell_type": "code",
   "execution_count": 12,
   "metadata": {},
   "outputs": [
    {
     "data": {
      "text/markdown": [
       "|                           | name               | group   | namespace   | computed   |\n",
       "|:--------------------------|:-------------------|:--------|:------------|:-----------|\n",
       "| movies:all_movies         | all_movies         | movies  |             | True       |\n",
       "| movies:movies             | movies             | movies  |             | True       |\n",
       "| movies:movie_names        | movie_names        | movies  |             | False      |\n",
       "| movies:duration_histogram | duration_histogram | movies  |             | True       |\n",
       "| movies:year_histogram     | year_histogram     | movies  |             | False      |\n",
       "| movies:directors          | directors          | movies  |             | True       |\n",
       "| movies:genres             | genres             | movies  |             | True       |\n",
       "| movies:countries          | countries          | movies  |             | True       |\n",
       "| movies:actors             | actors             | movies  |             | True       |"
      ],
      "text/plain": [
       "<chain for config `imdb.filtered`>"
      ]
     },
     "execution_count": 12,
     "metadata": {},
     "output_type": "execute_result"
    }
   ],
   "source": [
    "# we have some data computed !\n",
    "chain"
   ]
  },
  {
   "cell_type": "code",
   "execution_count": 13,
   "metadata": {},
   "outputs": [
    {
     "data": {
      "text/plain": [
       "{'config': {'context': None,\n",
       "  'name': 'imdb.filtered/movies:duration_histogram',\n",
       "  'namespace': None},\n",
       " 'ended': '2021-10-30 14:55:39.556337',\n",
       " 'input_tasks': {'movies:movies': 'df0ae4cf1dc452b45acd1cee4981c74a'},\n",
       " 'log': [],\n",
       " 'parameters': {'max_duration_in_histogram': '240'},\n",
       " 'started': '2021-10-30 14:55:38.047277',\n",
       " 'task': {'class': 'DurationHistogram',\n",
       "  'module': 'movie_ratings.tasks.movies',\n",
       "  'name': 'movies:duration_histogram'},\n",
       " 'time': 1.5090601444244385,\n",
       " 'user': {'name': 'thran', 'taskchain_version': '1.1.1'}}"
      ]
     },
     "execution_count": 13,
     "metadata": {},
     "output_type": "execute_result"
    }
   ],
   "source": [
    "# show some task computation details\n",
    "chain.duration_histogram.run_info"
   ]
  },
  {
   "cell_type": "markdown",
   "metadata": {},
   "source": [
    "## Explore models"
   ]
  },
  {
   "cell_type": "code",
   "execution_count": 14,
   "metadata": {},
   "outputs": [
    {
     "data": {
      "text/plain": [
       "multichain:\n",
       " - <chain for config `baseline`>\n",
       " - <chain for config `linear_regression`>\n",
       " - <chain for config `nn`>\n",
       " - <chain for config `tf_linear_regression`>"
      ]
     },
     "execution_count": 14,
     "metadata": {},
     "output_type": "execute_result"
    }
   ],
   "source": [
    "from taskchain import MultiChain\n",
    "\n",
    "# with multichain, we can make multiple chains at once\n",
    "chains = MultiChain.from_dir(\n",
    "    task_data_path, \n",
    "    config.CONFIGS_DIR / 'rating_model' / 'all_features', \n",
    "    global_vars=config,\n",
    ")\n",
    "chains"
   ]
  },
  {
   "cell_type": "code",
   "execution_count": 15,
   "metadata": {
    "tags": []
   },
   "outputs": [
    {
     "data": {
      "text/markdown": [
       "|                               | name               | group        | namespace   | computed   |\n",
       "|:------------------------------|:-------------------|:-------------|:------------|:-----------|\n",
       "| features:selected_actors      | selected_actors    | features     |             | True       |\n",
       "| features:selected_directors   | selected_directors | features     |             | True       |\n",
       "| features:all_features         | all_features       | features     |             | True       |\n",
       "| features:feature_names        | feature_names      | features     |             | True       |\n",
       "| features:features             | features           | features     |             |            |\n",
       "| movies:all_movies             | all_movies         | movies       |             | True       |\n",
       "| movies:movies                 | movies             | movies       |             | True       |\n",
       "| movies:genres                 | genres             | movies       |             | True       |\n",
       "| movies:countries              | countries          | movies       |             | True       |\n",
       "| movies:actors                 | actors             | movies       |             | True       |\n",
       "| movies:directors              | directors          | movies       |             | True       |\n",
       "| movies:movie_names            | movie_names        | movies       |             | False      |\n",
       "| movies:duration_histogram     | duration_histogram | movies       |             | True       |\n",
       "| movies:year_histogram         | year_histogram     | movies       |             | False      |\n",
       "| rating_model:all_x            | all_x              | rating_model |             | True       |\n",
       "| rating_model:all_y            | all_y              | rating_model |             | True       |\n",
       "| rating_model:test_movies_mask | test_movies_mask   | rating_model |             | True       |\n",
       "| rating_model:train_x          | train_x            | rating_model |             | True       |\n",
       "| rating_model:test_x           | test_x             | rating_model |             | True       |\n",
       "| rating_model:train_y          | train_y            | rating_model |             | True       |\n",
       "| rating_model:test_y           | test_y             | rating_model |             | True       |\n",
       "| rating_model:train_model      | train_model        | rating_model |             | True       |\n",
       "| rating_model:trained_model    | trained_model      | rating_model |             |            |\n",
       "| rating_model:test_metrics     | test_metrics       | rating_model |             | True       |"
      ],
      "text/plain": [
       "<chain for config `baseline`>"
      ]
     },
     "execution_count": 15,
     "metadata": {},
     "output_type": "execute_result"
    }
   ],
   "source": [
    "# get a chain - note that some tasks have already computed data from exploring movies\n",
    "chains['baseline']"
   ]
  },
  {
   "cell_type": "code",
   "execution_count": 16,
   "metadata": {
    "tags": []
   },
   "outputs": [
    {
     "data": {
      "image/svg+xml": [
       "<?xml version=\"1.0\" encoding=\"UTF-8\" standalone=\"no\"?>\n",
       "<!DOCTYPE svg PUBLIC \"-//W3C//DTD SVG 1.1//EN\"\n",
       " \"http://www.w3.org/Graphics/SVG/1.1/DTD/svg11.dtd\">\n",
       "<!-- Generated by graphviz version 2.44.0 (0)\n",
       " -->\n",
       "<!-- Pages: 1 -->\n",
       "<svg width=\"1253pt\" height=\"908pt\"\n",
       " viewBox=\"0.00 0.00 1252.50 908.00\" xmlns=\"http://www.w3.org/2000/svg\" xmlns:xlink=\"http://www.w3.org/1999/xlink\">\n",
       "<g id=\"graph0\" class=\"graph\" transform=\"scale(1 1) rotate(0) translate(4 904)\">\n",
       "<polygon fill=\"white\" stroke=\"transparent\" points=\"-4,4 -4,-904 1248.5,-904 1248.5,4 -4,4\"/>\n",
       "<!-- all_y#a111aeeacfb1364b0cc4ab8247b62d5f -->\n",
       "<g id=\"node1\" class=\"node\">\n",
       "<title>all_y#a111aeeacfb1364b0cc4ab8247b62d5f</title>\n",
       "<polygon fill=\"#ffb482\" stroke=\"black\" points=\"169,-756 25,-756 25,-720 169,-720 169,-756\"/>\n",
       "<text text-anchor=\"start\" x=\"62\" y=\"-741.8\" font-family=\"Times-Roman\" font-size=\"10.00\">rating_model</text>\n",
       "<text text-anchor=\"start\" x=\"127\" y=\"-741.8\" font-family=\"Times-Roman\" font-size=\"14.00\"> </text>\n",
       "<text text-anchor=\"start\" x=\"79\" y=\"-727.8\" font-family=\"Times-Roman\" font-size=\"14.00\"> all_y</text>\n",
       "</g>\n",
       "<!-- train_y#be0545c3599c83779141c460a0a381f7 -->\n",
       "<g id=\"node12\" class=\"node\">\n",
       "<title>train_y#be0545c3599c83779141c460a0a381f7</title>\n",
       "<polygon fill=\"#ffb482\" stroke=\"black\" points=\"306,-252 162,-252 162,-216 306,-216 306,-252\"/>\n",
       "<text text-anchor=\"start\" x=\"199\" y=\"-237.8\" font-family=\"Times-Roman\" font-size=\"10.00\">rating_model</text>\n",
       "<text text-anchor=\"start\" x=\"264\" y=\"-237.8\" font-family=\"Times-Roman\" font-size=\"14.00\"> </text>\n",
       "<text text-anchor=\"start\" x=\"208\" y=\"-223.8\" font-family=\"Times-Roman\" font-size=\"14.00\"> train_y</text>\n",
       "</g>\n",
       "<!-- all_y#a111aeeacfb1364b0cc4ab8247b62d5f&#45;&gt;train_y#be0545c3599c83779141c460a0a381f7 -->\n",
       "<g id=\"edge28\" class=\"edge\">\n",
       "<title>all_y#a111aeeacfb1364b0cc4ab8247b62d5f&#45;&gt;train_y#be0545c3599c83779141c460a0a381f7</title>\n",
       "<path fill=\"none\" stroke=\"black\" d=\"M165.5,-719.76C165.5,-719.76 165.5,-262.21 165.5,-262.21\"/>\n",
       "<polygon fill=\"black\" stroke=\"black\" points=\"169,-262.21 165.5,-252.21 162,-262.21 169,-262.21\"/>\n",
       "</g>\n",
       "<!-- test_y#be0545c3599c83779141c460a0a381f7 -->\n",
       "<g id=\"node15\" class=\"node\">\n",
       "<title>test_y#be0545c3599c83779141c460a0a381f7</title>\n",
       "<polygon fill=\"#ffb482\" stroke=\"black\" points=\"144,-252 0,-252 0,-216 144,-216 144,-252\"/>\n",
       "<text text-anchor=\"start\" x=\"37\" y=\"-237.8\" font-family=\"Times-Roman\" font-size=\"10.00\">rating_model</text>\n",
       "<text text-anchor=\"start\" x=\"102\" y=\"-237.8\" font-family=\"Times-Roman\" font-size=\"14.00\"> </text>\n",
       "<text text-anchor=\"start\" x=\"49\" y=\"-223.8\" font-family=\"Times-Roman\" font-size=\"14.00\"> test_y</text>\n",
       "</g>\n",
       "<!-- all_y#a111aeeacfb1364b0cc4ab8247b62d5f&#45;&gt;test_y#be0545c3599c83779141c460a0a381f7 -->\n",
       "<g id=\"edge29\" class=\"edge\">\n",
       "<title>all_y#a111aeeacfb1364b0cc4ab8247b62d5f&#45;&gt;test_y#be0545c3599c83779141c460a0a381f7</title>\n",
       "<path fill=\"none\" stroke=\"black\" d=\"M64.67,-719.76C64.67,-719.76 64.67,-262.21 64.67,-262.21\"/>\n",
       "<polygon fill=\"black\" stroke=\"black\" points=\"68.17,-262.21 64.67,-252.21 61.17,-262.21 68.17,-262.21\"/>\n",
       "</g>\n",
       "<!-- movies#df0ae4cf1dc452b45acd1cee4981c74a -->\n",
       "<g id=\"node2\" class=\"node\">\n",
       "<title>movies#df0ae4cf1dc452b45acd1cee4981c74a</title>\n",
       "<polygon fill=\"#8de5a1\" stroke=\"black\" points=\"607,-828 463,-828 463,-792 607,-792 607,-828\"/>\n",
       "<text text-anchor=\"start\" x=\"514\" y=\"-813.8\" font-family=\"Times-Roman\" font-size=\"10.00\">movies</text>\n",
       "<text text-anchor=\"start\" x=\"551\" y=\"-813.8\" font-family=\"Times-Roman\" font-size=\"14.00\"> </text>\n",
       "<text text-anchor=\"start\" x=\"507.5\" y=\"-799.8\" font-family=\"Times-Roman\" font-size=\"14.00\"> movies</text>\n",
       "</g>\n",
       "<!-- movies#df0ae4cf1dc452b45acd1cee4981c74a&#45;&gt;all_y#a111aeeacfb1364b0cc4ab8247b62d5f -->\n",
       "<g id=\"edge9\" class=\"edge\">\n",
       "<title>movies#df0ae4cf1dc452b45acd1cee4981c74a&#45;&gt;all_y#a111aeeacfb1364b0cc4ab8247b62d5f</title>\n",
       "<path fill=\"none\" stroke=\"black\" d=\"M462.67,-819C338.27,-819 97,-819 97,-819 97,-819 97,-766.38 97,-766.38\"/>\n",
       "<polygon fill=\"black\" stroke=\"black\" points=\"100.5,-766.38 97,-756.38 93.5,-766.38 100.5,-766.38\"/>\n",
       "</g>\n",
       "<!-- all_features#774c82cc70a032575ca8139821820e14 -->\n",
       "<g id=\"node4\" class=\"node\">\n",
       "<title>all_features#774c82cc70a032575ca8139821820e14</title>\n",
       "<polygon fill=\"#a1c9f4\" stroke=\"black\" points=\"569,-612 425,-612 425,-576 569,-576 569,-612\"/>\n",
       "<text text-anchor=\"start\" x=\"474\" y=\"-597.8\" font-family=\"Times-Roman\" font-size=\"10.00\">features</text>\n",
       "<text text-anchor=\"start\" x=\"515\" y=\"-597.8\" font-family=\"Times-Roman\" font-size=\"14.00\"> </text>\n",
       "<text text-anchor=\"start\" x=\"454.5\" y=\"-583.8\" font-family=\"Times-Roman\" font-size=\"14.00\"> all_features</text>\n",
       "</g>\n",
       "<!-- movies#df0ae4cf1dc452b45acd1cee4981c74a&#45;&gt;all_features#774c82cc70a032575ca8139821820e14 -->\n",
       "<g id=\"edge8\" class=\"edge\">\n",
       "<title>movies#df0ae4cf1dc452b45acd1cee4981c74a&#45;&gt;all_features#774c82cc70a032575ca8139821820e14</title>\n",
       "<path fill=\"none\" stroke=\"black\" d=\"M462.77,-801C429.38,-801 397,-801 397,-801 397,-801 397,-603 397,-603 397,-603 414.86,-603 414.86,-603\"/>\n",
       "<polygon fill=\"black\" stroke=\"black\" points=\"414.86,-606.5 424.86,-603 414.86,-599.5 414.86,-606.5\"/>\n",
       "</g>\n",
       "<!-- countries#b3956bfda39181bddbe5203725bd0abe -->\n",
       "<g id=\"node9\" class=\"node\">\n",
       "<title>countries#b3956bfda39181bddbe5203725bd0abe</title>\n",
       "<polygon fill=\"#8de5a1\" stroke=\"black\" points=\"569,-684 425,-684 425,-648 569,-648 569,-684\"/>\n",
       "<text text-anchor=\"start\" x=\"476\" y=\"-669.8\" font-family=\"Times-Roman\" font-size=\"10.00\">movies</text>\n",
       "<text text-anchor=\"start\" x=\"513\" y=\"-669.8\" font-family=\"Times-Roman\" font-size=\"14.00\"> </text>\n",
       "<text text-anchor=\"start\" x=\"462\" y=\"-655.8\" font-family=\"Times-Roman\" font-size=\"14.00\"> countries</text>\n",
       "</g>\n",
       "<!-- movies#df0ae4cf1dc452b45acd1cee4981c74a&#45;&gt;countries#b3956bfda39181bddbe5203725bd0abe -->\n",
       "<g id=\"edge3\" class=\"edge\">\n",
       "<title>movies#df0ae4cf1dc452b45acd1cee4981c74a&#45;&gt;countries#b3956bfda39181bddbe5203725bd0abe</title>\n",
       "<path fill=\"none\" stroke=\"black\" d=\"M529.67,-791.76C529.67,-791.76 529.67,-694.09 529.67,-694.09\"/>\n",
       "<polygon fill=\"black\" stroke=\"black\" points=\"533.17,-694.09 529.67,-684.09 526.17,-694.09 533.17,-694.09\"/>\n",
       "</g>\n",
       "<!-- actors#b3956bfda39181bddbe5203725bd0abe -->\n",
       "<g id=\"node11\" class=\"node\">\n",
       "<title>actors#b3956bfda39181bddbe5203725bd0abe</title>\n",
       "<polygon fill=\"#8de5a1\" stroke=\"black\" points=\"707,-756 563,-756 563,-720 707,-720 707,-756\"/>\n",
       "<text text-anchor=\"start\" x=\"614\" y=\"-741.8\" font-family=\"Times-Roman\" font-size=\"10.00\">movies</text>\n",
       "<text text-anchor=\"start\" x=\"651\" y=\"-741.8\" font-family=\"Times-Roman\" font-size=\"14.00\"> </text>\n",
       "<text text-anchor=\"start\" x=\"611\" y=\"-727.8\" font-family=\"Times-Roman\" font-size=\"14.00\"> actors</text>\n",
       "</g>\n",
       "<!-- movies#df0ae4cf1dc452b45acd1cee4981c74a&#45;&gt;actors#b3956bfda39181bddbe5203725bd0abe -->\n",
       "<g id=\"edge4\" class=\"edge\">\n",
       "<title>movies#df0ae4cf1dc452b45acd1cee4981c74a&#45;&gt;actors#b3956bfda39181bddbe5203725bd0abe</title>\n",
       "<path fill=\"none\" stroke=\"black\" d=\"M585,-791.83C585,-791.83 585,-766.41 585,-766.41\"/>\n",
       "<polygon fill=\"black\" stroke=\"black\" points=\"588.5,-766.41 585,-756.41 581.5,-766.41 588.5,-766.41\"/>\n",
       "</g>\n",
       "<!-- genres#b3956bfda39181bddbe5203725bd0abe -->\n",
       "<g id=\"node13\" class=\"node\">\n",
       "<title>genres#b3956bfda39181bddbe5203725bd0abe</title>\n",
       "<polygon fill=\"#8de5a1\" stroke=\"black\" points=\"731,-684 587,-684 587,-648 731,-648 731,-684\"/>\n",
       "<text text-anchor=\"start\" x=\"638\" y=\"-669.8\" font-family=\"Times-Roman\" font-size=\"10.00\">movies</text>\n",
       "<text text-anchor=\"start\" x=\"675\" y=\"-669.8\" font-family=\"Times-Roman\" font-size=\"14.00\"> </text>\n",
       "<text text-anchor=\"start\" x=\"633\" y=\"-655.8\" font-family=\"Times-Roman\" font-size=\"14.00\"> genres</text>\n",
       "</g>\n",
       "<!-- movies#df0ae4cf1dc452b45acd1cee4981c74a&#45;&gt;genres#b3956bfda39181bddbe5203725bd0abe -->\n",
       "<g id=\"edge2\" class=\"edge\">\n",
       "<title>movies#df0ae4cf1dc452b45acd1cee4981c74a&#45;&gt;genres#b3956bfda39181bddbe5203725bd0abe</title>\n",
       "<path fill=\"none\" stroke=\"black\" d=\"M607.19,-798C658.74,-798 719,-798 719,-798 719,-798 719,-694.08 719,-694.08\"/>\n",
       "<polygon fill=\"black\" stroke=\"black\" points=\"722.5,-694.08 719,-684.08 715.5,-694.08 722.5,-694.08\"/>\n",
       "</g>\n",
       "<!-- directors#b3956bfda39181bddbe5203725bd0abe -->\n",
       "<g id=\"node14\" class=\"node\">\n",
       "<title>directors#b3956bfda39181bddbe5203725bd0abe</title>\n",
       "<polygon fill=\"#8de5a1\" stroke=\"black\" points=\"331,-756 187,-756 187,-720 331,-720 331,-756\"/>\n",
       "<text text-anchor=\"start\" x=\"238\" y=\"-741.8\" font-family=\"Times-Roman\" font-size=\"10.00\">movies</text>\n",
       "<text text-anchor=\"start\" x=\"275\" y=\"-741.8\" font-family=\"Times-Roman\" font-size=\"14.00\"> </text>\n",
       "<text text-anchor=\"start\" x=\"226\" y=\"-727.8\" font-family=\"Times-Roman\" font-size=\"14.00\"> directors</text>\n",
       "</g>\n",
       "<!-- movies#df0ae4cf1dc452b45acd1cee4981c74a&#45;&gt;directors#b3956bfda39181bddbe5203725bd0abe -->\n",
       "<g id=\"edge5\" class=\"edge\">\n",
       "<title>movies#df0ae4cf1dc452b45acd1cee4981c74a&#45;&gt;directors#b3956bfda39181bddbe5203725bd0abe</title>\n",
       "<path fill=\"none\" stroke=\"black\" d=\"M496.33,-791.83C496.33,-770.5 496.33,-738 496.33,-738 496.33,-738 341.17,-738 341.17,-738\"/>\n",
       "<polygon fill=\"black\" stroke=\"black\" points=\"341.17,-734.5 331.17,-738 341.17,-741.5 341.17,-734.5\"/>\n",
       "</g>\n",
       "<!-- selected_actors#17cc4a87eb18b4926865054b30271091 -->\n",
       "<g id=\"node16\" class=\"node\">\n",
       "<title>selected_actors#17cc4a87eb18b4926865054b30271091</title>\n",
       "<polygon fill=\"#a1c9f4\" stroke=\"black\" points=\"931,-684 787,-684 787,-648 931,-648 931,-684\"/>\n",
       "<text text-anchor=\"start\" x=\"836\" y=\"-669.8\" font-family=\"Times-Roman\" font-size=\"10.00\">features</text>\n",
       "<text text-anchor=\"start\" x=\"877\" y=\"-669.8\" font-family=\"Times-Roman\" font-size=\"14.00\"> </text>\n",
       "<text text-anchor=\"start\" x=\"803\" y=\"-655.8\" font-family=\"Times-Roman\" font-size=\"14.00\"> selected_actors</text>\n",
       "</g>\n",
       "<!-- movies#df0ae4cf1dc452b45acd1cee4981c74a&#45;&gt;selected_actors#17cc4a87eb18b4926865054b30271091 -->\n",
       "<g id=\"edge6\" class=\"edge\">\n",
       "<title>movies#df0ae4cf1dc452b45acd1cee4981c74a&#45;&gt;selected_actors#17cc4a87eb18b4926865054b30271091</title>\n",
       "<path fill=\"none\" stroke=\"black\" d=\"M607.11,-810C717.57,-810 916,-810 916,-810 916,-810 916,-694.24 916,-694.24\"/>\n",
       "<polygon fill=\"black\" stroke=\"black\" points=\"919.5,-694.24 916,-684.24 912.5,-694.24 919.5,-694.24\"/>\n",
       "</g>\n",
       "<!-- selected_directors#cb5640b8366b92bdadbdac574a9fe21b -->\n",
       "<g id=\"node18\" class=\"node\">\n",
       "<title>selected_directors#cb5640b8366b92bdadbdac574a9fe21b</title>\n",
       "<polygon fill=\"#a1c9f4\" stroke=\"black\" points=\"369,-684 223,-684 223,-648 369,-648 369,-684\"/>\n",
       "<text text-anchor=\"start\" x=\"273\" y=\"-669.8\" font-family=\"Times-Roman\" font-size=\"10.00\">features</text>\n",
       "<text text-anchor=\"start\" x=\"314\" y=\"-669.8\" font-family=\"Times-Roman\" font-size=\"14.00\"> </text>\n",
       "<text text-anchor=\"start\" x=\"231\" y=\"-655.8\" font-family=\"Times-Roman\" font-size=\"14.00\"> selected_directors</text>\n",
       "</g>\n",
       "<!-- movies#df0ae4cf1dc452b45acd1cee4981c74a&#45;&gt;selected_directors#cb5640b8366b92bdadbdac574a9fe21b -->\n",
       "<g id=\"edge7\" class=\"edge\">\n",
       "<title>movies#df0ae4cf1dc452b45acd1cee4981c74a&#45;&gt;selected_directors#cb5640b8366b92bdadbdac574a9fe21b</title>\n",
       "<path fill=\"none\" stroke=\"black\" d=\"M462.94,-810C411,-810 350,-810 350,-810 350,-810 350,-694.24 350,-694.24\"/>\n",
       "<polygon fill=\"black\" stroke=\"black\" points=\"353.5,-694.24 350,-684.24 346.5,-694.24 353.5,-694.24\"/>\n",
       "</g>\n",
       "<!-- year_histogram#b3956bfda39181bddbe5203725bd0abe -->\n",
       "<g id=\"node19\" class=\"node\">\n",
       "<title>year_histogram#b3956bfda39181bddbe5203725bd0abe</title>\n",
       "<polygon fill=\"#8de5a1\" stroke=\"black\" stroke-dasharray=\"5,2\" points=\"907,-756 763,-756 763,-720 907,-720 907,-756\"/>\n",
       "<text text-anchor=\"start\" x=\"814\" y=\"-741.8\" font-family=\"Times-Roman\" font-size=\"10.00\">movies</text>\n",
       "<text text-anchor=\"start\" x=\"851\" y=\"-741.8\" font-family=\"Times-Roman\" font-size=\"14.00\"> </text>\n",
       "<text text-anchor=\"start\" x=\"778.5\" y=\"-727.8\" font-family=\"Times-Roman\" font-size=\"14.00\"> year_histogram</text>\n",
       "</g>\n",
       "<!-- movies#df0ae4cf1dc452b45acd1cee4981c74a&#45;&gt;year_histogram#b3956bfda39181bddbe5203725bd0abe -->\n",
       "<g id=\"edge12\" class=\"edge\">\n",
       "<title>movies#df0ae4cf1dc452b45acd1cee4981c74a&#45;&gt;year_histogram#b3956bfda39181bddbe5203725bd0abe</title>\n",
       "<path fill=\"none\" stroke=\"black\" d=\"M607.24,-804C696.01,-804 835,-804 835,-804 835,-804 835,-766.03 835,-766.03\"/>\n",
       "<polygon fill=\"black\" stroke=\"black\" points=\"838.5,-766.03 835,-756.03 831.5,-766.03 838.5,-766.03\"/>\n",
       "</g>\n",
       "<!-- movie_names#b3956bfda39181bddbe5203725bd0abe -->\n",
       "<g id=\"node22\" class=\"node\">\n",
       "<title>movie_names#b3956bfda39181bddbe5203725bd0abe</title>\n",
       "<polygon fill=\"#8de5a1\" stroke=\"black\" stroke-dasharray=\"5,2\" points=\"1069,-756 925,-756 925,-720 1069,-720 1069,-756\"/>\n",
       "<text text-anchor=\"start\" x=\"976\" y=\"-741.8\" font-family=\"Times-Roman\" font-size=\"10.00\">movies</text>\n",
       "<text text-anchor=\"start\" x=\"1013\" y=\"-741.8\" font-family=\"Times-Roman\" font-size=\"14.00\"> </text>\n",
       "<text text-anchor=\"start\" x=\"947\" y=\"-727.8\" font-family=\"Times-Roman\" font-size=\"14.00\"> movie_names</text>\n",
       "</g>\n",
       "<!-- movies#df0ae4cf1dc452b45acd1cee4981c74a&#45;&gt;movie_names#b3956bfda39181bddbe5203725bd0abe -->\n",
       "<g id=\"edge10\" class=\"edge\">\n",
       "<title>movies#df0ae4cf1dc452b45acd1cee4981c74a&#45;&gt;movie_names#b3956bfda39181bddbe5203725bd0abe</title>\n",
       "<path fill=\"none\" stroke=\"black\" d=\"M607.19,-816C737.12,-816 997,-816 997,-816 997,-816 997,-766.09 997,-766.09\"/>\n",
       "<polygon fill=\"black\" stroke=\"black\" points=\"1000.5,-766.09 997,-756.09 993.5,-766.09 1000.5,-766.09\"/>\n",
       "</g>\n",
       "<!-- duration_histogram#a1b18bbb1f497f2fa255337f8d9ff81e -->\n",
       "<g id=\"node24\" class=\"node\">\n",
       "<title>duration_histogram#a1b18bbb1f497f2fa255337f8d9ff81e</title>\n",
       "<polygon fill=\"#8de5a1\" stroke=\"black\" points=\"1244.5,-756 1087.5,-756 1087.5,-720 1244.5,-720 1244.5,-756\"/>\n",
       "<text text-anchor=\"start\" x=\"1145\" y=\"-741.8\" font-family=\"Times-Roman\" font-size=\"10.00\">movies</text>\n",
       "<text text-anchor=\"start\" x=\"1182\" y=\"-741.8\" font-family=\"Times-Roman\" font-size=\"14.00\"> </text>\n",
       "<text text-anchor=\"start\" x=\"1095.5\" y=\"-727.8\" font-family=\"Times-Roman\" font-size=\"14.00\"> duration_histogram</text>\n",
       "</g>\n",
       "<!-- movies#df0ae4cf1dc452b45acd1cee4981c74a&#45;&gt;duration_histogram#a1b18bbb1f497f2fa255337f8d9ff81e -->\n",
       "<g id=\"edge11\" class=\"edge\">\n",
       "<title>movies#df0ae4cf1dc452b45acd1cee4981c74a&#45;&gt;duration_histogram#a1b18bbb1f497f2fa255337f8d9ff81e</title>\n",
       "<path fill=\"none\" stroke=\"black\" d=\"M607.08,-822C772.64,-822 1166,-822 1166,-822 1166,-822 1166,-766.23 1166,-766.23\"/>\n",
       "<polygon fill=\"black\" stroke=\"black\" points=\"1169.5,-766.23 1166,-756.23 1162.5,-766.23 1169.5,-766.23\"/>\n",
       "</g>\n",
       "<!-- all_movies#436f7a5e06e540716b275a5f84499a78 -->\n",
       "<g id=\"node3\" class=\"node\">\n",
       "<title>all_movies#436f7a5e06e540716b275a5f84499a78</title>\n",
       "<polygon fill=\"#8de5a1\" stroke=\"black\" points=\"607,-900 463,-900 463,-864 607,-864 607,-900\"/>\n",
       "<text text-anchor=\"start\" x=\"514\" y=\"-885.8\" font-family=\"Times-Roman\" font-size=\"10.00\">movies</text>\n",
       "<text text-anchor=\"start\" x=\"551\" y=\"-885.8\" font-family=\"Times-Roman\" font-size=\"14.00\"> </text>\n",
       "<text text-anchor=\"start\" x=\"496.5\" y=\"-871.8\" font-family=\"Times-Roman\" font-size=\"14.00\"> all_movies</text>\n",
       "</g>\n",
       "<!-- all_movies#436f7a5e06e540716b275a5f84499a78&#45;&gt;movies#df0ae4cf1dc452b45acd1cee4981c74a -->\n",
       "<g id=\"edge1\" class=\"edge\">\n",
       "<title>all_movies#436f7a5e06e540716b275a5f84499a78&#45;&gt;movies#df0ae4cf1dc452b45acd1cee4981c74a</title>\n",
       "<path fill=\"none\" stroke=\"black\" d=\"M535,-863.83C535,-863.83 535,-838.41 535,-838.41\"/>\n",
       "<polygon fill=\"black\" stroke=\"black\" points=\"538.5,-838.41 535,-828.41 531.5,-838.41 538.5,-838.41\"/>\n",
       "</g>\n",
       "<!-- features#d03ec65c5462c85fe35ac85c9f8dfbe6 -->\n",
       "<g id=\"node6\" class=\"node\">\n",
       "<title>features#d03ec65c5462c85fe35ac85c9f8dfbe6</title>\n",
       "<polygon fill=\"#a1c9f4\" stroke=\"#a1c9f4\" points=\"499,-468 355,-468 355,-432 499,-432 499,-468\"/>\n",
       "<text text-anchor=\"start\" x=\"404\" y=\"-453.8\" font-family=\"Times-Roman\" font-size=\"10.00\">features</text>\n",
       "<text text-anchor=\"start\" x=\"445\" y=\"-453.8\" font-family=\"Times-Roman\" font-size=\"14.00\"> </text>\n",
       "<text text-anchor=\"start\" x=\"396\" y=\"-439.8\" font-family=\"Times-Roman\" font-size=\"14.00\"> features</text>\n",
       "</g>\n",
       "<!-- all_features#774c82cc70a032575ca8139821820e14&#45;&gt;features#d03ec65c5462c85fe35ac85c9f8dfbe6 -->\n",
       "<g id=\"edge22\" class=\"edge\">\n",
       "<title>all_features#774c82cc70a032575ca8139821820e14&#45;&gt;features#d03ec65c5462c85fe35ac85c9f8dfbe6</title>\n",
       "<path fill=\"none\" stroke=\"black\" d=\"M431,-575.76C431,-575.76 431,-478.09 431,-478.09\"/>\n",
       "<polygon fill=\"black\" stroke=\"black\" points=\"434.5,-478.09 431,-468.09 427.5,-478.09 434.5,-478.09\"/>\n",
       "</g>\n",
       "<!-- feature_names#102a5c4ba575905f928d12389c32c9c3 -->\n",
       "<g id=\"node21\" class=\"node\">\n",
       "<title>feature_names#102a5c4ba575905f928d12389c32c9c3</title>\n",
       "<polygon fill=\"#a1c9f4\" stroke=\"black\" points=\"581,-540 437,-540 437,-504 581,-504 581,-540\"/>\n",
       "<text text-anchor=\"start\" x=\"486\" y=\"-525.8\" font-family=\"Times-Roman\" font-size=\"10.00\">features</text>\n",
       "<text text-anchor=\"start\" x=\"527\" y=\"-525.8\" font-family=\"Times-Roman\" font-size=\"14.00\"> </text>\n",
       "<text text-anchor=\"start\" x=\"455\" y=\"-511.8\" font-family=\"Times-Roman\" font-size=\"14.00\"> feature_names</text>\n",
       "</g>\n",
       "<!-- all_features#774c82cc70a032575ca8139821820e14&#45;&gt;feature_names#102a5c4ba575905f928d12389c32c9c3 -->\n",
       "<g id=\"edge21\" class=\"edge\">\n",
       "<title>all_features#774c82cc70a032575ca8139821820e14&#45;&gt;feature_names#102a5c4ba575905f928d12389c32c9c3</title>\n",
       "<path fill=\"none\" stroke=\"black\" d=\"M503,-575.83C503,-575.83 503,-550.41 503,-550.41\"/>\n",
       "<polygon fill=\"black\" stroke=\"black\" points=\"506.5,-550.41 503,-540.41 499.5,-550.41 506.5,-550.41\"/>\n",
       "</g>\n",
       "<!-- trained_model#0527d4469c984dd523cdc82e708fab39 -->\n",
       "<g id=\"node5\" class=\"node\">\n",
       "<title>trained_model#0527d4469c984dd523cdc82e708fab39</title>\n",
       "<polygon fill=\"#ffb482\" stroke=\"#ffb482\" points=\"362,-108 218,-108 218,-72 362,-72 362,-108\"/>\n",
       "<text text-anchor=\"start\" x=\"255\" y=\"-93.8\" font-family=\"Times-Roman\" font-size=\"10.00\">rating_model</text>\n",
       "<text text-anchor=\"start\" x=\"320\" y=\"-93.8\" font-family=\"Times-Roman\" font-size=\"14.00\"> </text>\n",
       "<text text-anchor=\"start\" x=\"238\" y=\"-79.8\" font-family=\"Times-Roman\" font-size=\"14.00\"> trained_model</text>\n",
       "</g>\n",
       "<!-- test_metrics#cfe3903e9f3b8f7efb5ffa4070cada65 -->\n",
       "<g id=\"node8\" class=\"node\">\n",
       "<title>test_metrics#cfe3903e9f3b8f7efb5ffa4070cada65</title>\n",
       "<polygon fill=\"#ffb482\" stroke=\"black\" points=\"362,-36 218,-36 218,0 362,0 362,-36\"/>\n",
       "<text text-anchor=\"start\" x=\"255\" y=\"-21.8\" font-family=\"Times-Roman\" font-size=\"10.00\">rating_model</text>\n",
       "<text text-anchor=\"start\" x=\"320\" y=\"-21.8\" font-family=\"Times-Roman\" font-size=\"14.00\"> </text>\n",
       "<text text-anchor=\"start\" x=\"245\" y=\"-7.8\" font-family=\"Times-Roman\" font-size=\"14.00\"> test_metrics</text>\n",
       "</g>\n",
       "<!-- trained_model#0527d4469c984dd523cdc82e708fab39&#45;&gt;test_metrics#cfe3903e9f3b8f7efb5ffa4070cada65 -->\n",
       "<g id=\"edge39\" class=\"edge\">\n",
       "<title>trained_model#0527d4469c984dd523cdc82e708fab39&#45;&gt;test_metrics#cfe3903e9f3b8f7efb5ffa4070cada65</title>\n",
       "<path fill=\"none\" stroke=\"black\" d=\"M290,-71.83C290,-71.83 290,-46.41 290,-46.41\"/>\n",
       "<polygon fill=\"black\" stroke=\"black\" points=\"293.5,-46.41 290,-36.41 286.5,-46.41 293.5,-46.41\"/>\n",
       "</g>\n",
       "<!-- all_x#9a51140e2f66d58caae832cf309ebc25 -->\n",
       "<g id=\"node23\" class=\"node\">\n",
       "<title>all_x#9a51140e2f66d58caae832cf309ebc25</title>\n",
       "<polygon fill=\"#ffb482\" stroke=\"black\" points=\"499,-396 355,-396 355,-360 499,-360 499,-396\"/>\n",
       "<text text-anchor=\"start\" x=\"392\" y=\"-381.8\" font-family=\"Times-Roman\" font-size=\"10.00\">rating_model</text>\n",
       "<text text-anchor=\"start\" x=\"457\" y=\"-381.8\" font-family=\"Times-Roman\" font-size=\"14.00\"> </text>\n",
       "<text text-anchor=\"start\" x=\"409\" y=\"-367.8\" font-family=\"Times-Roman\" font-size=\"14.00\"> all_x</text>\n",
       "</g>\n",
       "<!-- features#d03ec65c5462c85fe35ac85c9f8dfbe6&#45;&gt;all_x#9a51140e2f66d58caae832cf309ebc25 -->\n",
       "<g id=\"edge24\" class=\"edge\">\n",
       "<title>features#d03ec65c5462c85fe35ac85c9f8dfbe6&#45;&gt;all_x#9a51140e2f66d58caae832cf309ebc25</title>\n",
       "<path fill=\"none\" stroke=\"black\" d=\"M427,-431.83C427,-431.83 427,-406.41 427,-406.41\"/>\n",
       "<polygon fill=\"black\" stroke=\"black\" points=\"430.5,-406.41 427,-396.41 423.5,-406.41 430.5,-406.41\"/>\n",
       "</g>\n",
       "<!-- train_x#145b214bda8529446d798d3a9d3859d8 -->\n",
       "<g id=\"node7\" class=\"node\">\n",
       "<title>train_x#145b214bda8529446d798d3a9d3859d8</title>\n",
       "<polygon fill=\"#ffb482\" stroke=\"black\" points=\"468,-252 324,-252 324,-216 468,-216 468,-252\"/>\n",
       "<text text-anchor=\"start\" x=\"361\" y=\"-237.8\" font-family=\"Times-Roman\" font-size=\"10.00\">rating_model</text>\n",
       "<text text-anchor=\"start\" x=\"426\" y=\"-237.8\" font-family=\"Times-Roman\" font-size=\"14.00\"> </text>\n",
       "<text text-anchor=\"start\" x=\"370\" y=\"-223.8\" font-family=\"Times-Roman\" font-size=\"14.00\"> train_x</text>\n",
       "</g>\n",
       "<!-- train_model#581b8a537217a297cccdbc5b4fba5d56 -->\n",
       "<g id=\"node17\" class=\"node\">\n",
       "<title>train_model#581b8a537217a297cccdbc5b4fba5d56</title>\n",
       "<polygon fill=\"#ffb482\" stroke=\"black\" points=\"362,-180 218,-180 218,-144 362,-144 362,-180\"/>\n",
       "<text text-anchor=\"start\" x=\"255\" y=\"-165.8\" font-family=\"Times-Roman\" font-size=\"10.00\">rating_model</text>\n",
       "<text text-anchor=\"start\" x=\"320\" y=\"-165.8\" font-family=\"Times-Roman\" font-size=\"14.00\"> </text>\n",
       "<text text-anchor=\"start\" x=\"246.5\" y=\"-151.8\" font-family=\"Times-Roman\" font-size=\"14.00\"> train_model</text>\n",
       "</g>\n",
       "<!-- train_x#145b214bda8529446d798d3a9d3859d8&#45;&gt;train_model#581b8a537217a297cccdbc5b4fba5d56 -->\n",
       "<g id=\"edge34\" class=\"edge\">\n",
       "<title>train_x#145b214bda8529446d798d3a9d3859d8&#45;&gt;train_model#581b8a537217a297cccdbc5b4fba5d56</title>\n",
       "<path fill=\"none\" stroke=\"black\" d=\"M343,-215.83C343,-215.83 343,-190.41 343,-190.41\"/>\n",
       "<polygon fill=\"black\" stroke=\"black\" points=\"346.5,-190.41 343,-180.41 339.5,-190.41 346.5,-190.41\"/>\n",
       "</g>\n",
       "<!-- countries#b3956bfda39181bddbe5203725bd0abe&#45;&gt;all_features#774c82cc70a032575ca8139821820e14 -->\n",
       "<g id=\"edge14\" class=\"edge\">\n",
       "<title>countries#b3956bfda39181bddbe5203725bd0abe&#45;&gt;all_features#774c82cc70a032575ca8139821820e14</title>\n",
       "<path fill=\"none\" stroke=\"black\" d=\"M497,-647.83C497,-647.83 497,-622.41 497,-622.41\"/>\n",
       "<polygon fill=\"black\" stroke=\"black\" points=\"500.5,-622.41 497,-612.41 493.5,-622.41 500.5,-622.41\"/>\n",
       "</g>\n",
       "<!-- test_x#145b214bda8529446d798d3a9d3859d8 -->\n",
       "<g id=\"node10\" class=\"node\">\n",
       "<title>test_x#145b214bda8529446d798d3a9d3859d8</title>\n",
       "<polygon fill=\"#ffb482\" stroke=\"black\" points=\"630,-252 486,-252 486,-216 630,-216 630,-252\"/>\n",
       "<text text-anchor=\"start\" x=\"523\" y=\"-237.8\" font-family=\"Times-Roman\" font-size=\"10.00\">rating_model</text>\n",
       "<text text-anchor=\"start\" x=\"588\" y=\"-237.8\" font-family=\"Times-Roman\" font-size=\"14.00\"> </text>\n",
       "<text text-anchor=\"start\" x=\"535\" y=\"-223.8\" font-family=\"Times-Roman\" font-size=\"14.00\"> test_x</text>\n",
       "</g>\n",
       "<!-- test_x#145b214bda8529446d798d3a9d3859d8&#45;&gt;test_metrics#cfe3903e9f3b8f7efb5ffa4070cada65 -->\n",
       "<g id=\"edge35\" class=\"edge\">\n",
       "<title>test_x#145b214bda8529446d798d3a9d3859d8&#45;&gt;test_metrics#cfe3903e9f3b8f7efb5ffa4070cada65</title>\n",
       "<path fill=\"none\" stroke=\"black\" d=\"M558,-215.96C558,-164.04 558,-18 558,-18 558,-18 372.17,-18 372.17,-18\"/>\n",
       "<polygon fill=\"black\" stroke=\"black\" points=\"372.17,-14.5 362.17,-18 372.17,-21.5 372.17,-14.5\"/>\n",
       "</g>\n",
       "<!-- actors#b3956bfda39181bddbe5203725bd0abe&#45;&gt;all_features#774c82cc70a032575ca8139821820e14 -->\n",
       "<g id=\"edge16\" class=\"edge\">\n",
       "<title>actors#b3956bfda39181bddbe5203725bd0abe&#45;&gt;all_features#774c82cc70a032575ca8139821820e14</title>\n",
       "<path fill=\"none\" stroke=\"black\" d=\"M575,-719.79C575,-682.94 575,-603 575,-603 575,-603 574.41,-603 574.41,-603\"/>\n",
       "<polygon fill=\"black\" stroke=\"black\" points=\"579.14,-599.5 569.14,-603 579.14,-606.5 579.14,-599.5\"/>\n",
       "</g>\n",
       "<!-- actors#b3956bfda39181bddbe5203725bd0abe&#45;&gt;selected_actors#17cc4a87eb18b4926865054b30271091 -->\n",
       "<g id=\"edge15\" class=\"edge\">\n",
       "<title>actors#b3956bfda39181bddbe5203725bd0abe&#45;&gt;selected_actors#17cc4a87eb18b4926865054b30271091</title>\n",
       "<path fill=\"none\" stroke=\"black\" d=\"M707.2,-738C728.87,-738 747,-738 747,-738 747,-738 747,-666 747,-666 747,-666 776.8,-666 776.8,-666\"/>\n",
       "<polygon fill=\"black\" stroke=\"black\" points=\"776.8,-669.5 786.8,-666 776.8,-662.5 776.8,-669.5\"/>\n",
       "</g>\n",
       "<!-- train_y#be0545c3599c83779141c460a0a381f7&#45;&gt;train_model#581b8a537217a297cccdbc5b4fba5d56 -->\n",
       "<g id=\"edge36\" class=\"edge\">\n",
       "<title>train_y#be0545c3599c83779141c460a0a381f7&#45;&gt;train_model#581b8a537217a297cccdbc5b4fba5d56</title>\n",
       "<path fill=\"none\" stroke=\"black\" d=\"M262,-215.83C262,-215.83 262,-190.41 262,-190.41\"/>\n",
       "<polygon fill=\"black\" stroke=\"black\" points=\"265.5,-190.41 262,-180.41 258.5,-190.41 265.5,-190.41\"/>\n",
       "</g>\n",
       "<!-- genres#b3956bfda39181bddbe5203725bd0abe&#45;&gt;all_features#774c82cc70a032575ca8139821820e14 -->\n",
       "<g id=\"edge13\" class=\"edge\">\n",
       "<title>genres#b3956bfda39181bddbe5203725bd0abe&#45;&gt;all_features#774c82cc70a032575ca8139821820e14</title>\n",
       "<path fill=\"none\" stroke=\"black\" d=\"M608.5,-647.83C608.5,-626.5 608.5,-594 608.5,-594 608.5,-594 579.19,-594 579.19,-594\"/>\n",
       "<polygon fill=\"black\" stroke=\"black\" points=\"579.19,-590.5 569.19,-594 579.19,-597.5 579.19,-590.5\"/>\n",
       "</g>\n",
       "<!-- directors#b3956bfda39181bddbe5203725bd0abe&#45;&gt;all_features#774c82cc70a032575ca8139821820e14 -->\n",
       "<g id=\"edge18\" class=\"edge\">\n",
       "<title>directors#b3956bfda39181bddbe5203725bd0abe&#45;&gt;all_features#774c82cc70a032575ca8139821820e14</title>\n",
       "<path fill=\"none\" stroke=\"black\" d=\"M205,-719.85C205,-679.32 205,-585 205,-585 205,-585 414.82,-585 414.82,-585\"/>\n",
       "<polygon fill=\"black\" stroke=\"black\" points=\"414.82,-588.5 424.82,-585 414.82,-581.5 414.82,-588.5\"/>\n",
       "</g>\n",
       "<!-- directors#b3956bfda39181bddbe5203725bd0abe&#45;&gt;selected_directors#cb5640b8366b92bdadbdac574a9fe21b -->\n",
       "<g id=\"edge17\" class=\"edge\">\n",
       "<title>directors#b3956bfda39181bddbe5203725bd0abe&#45;&gt;selected_directors#cb5640b8366b92bdadbdac574a9fe21b</title>\n",
       "<path fill=\"none\" stroke=\"black\" d=\"M277,-719.83C277,-719.83 277,-694.41 277,-694.41\"/>\n",
       "<polygon fill=\"black\" stroke=\"black\" points=\"280.5,-694.41 277,-684.41 273.5,-694.41 280.5,-694.41\"/>\n",
       "</g>\n",
       "<!-- test_y#be0545c3599c83779141c460a0a381f7&#45;&gt;test_metrics#cfe3903e9f3b8f7efb5ffa4070cada65 -->\n",
       "<g id=\"edge37\" class=\"edge\">\n",
       "<title>test_y#be0545c3599c83779141c460a0a381f7&#45;&gt;test_metrics#cfe3903e9f3b8f7efb5ffa4070cada65</title>\n",
       "<path fill=\"none\" stroke=\"black\" d=\"M72,-215.96C72,-164.04 72,-18 72,-18 72,-18 207.71,-18 207.71,-18\"/>\n",
       "<polygon fill=\"black\" stroke=\"black\" points=\"207.71,-21.5 217.71,-18 207.71,-14.5 207.71,-21.5\"/>\n",
       "</g>\n",
       "<!-- selected_actors#17cc4a87eb18b4926865054b30271091&#45;&gt;all_features#774c82cc70a032575ca8139821820e14 -->\n",
       "<g id=\"edge19\" class=\"edge\">\n",
       "<title>selected_actors#17cc4a87eb18b4926865054b30271091&#45;&gt;all_features#774c82cc70a032575ca8139821820e14</title>\n",
       "<path fill=\"none\" stroke=\"black\" d=\"M859,-647.62C859,-623.72 859,-585 859,-585 859,-585 579.39,-585 579.39,-585\"/>\n",
       "<polygon fill=\"black\" stroke=\"black\" points=\"579.39,-581.5 569.39,-585 579.39,-588.5 579.39,-581.5\"/>\n",
       "</g>\n",
       "<!-- train_model#581b8a537217a297cccdbc5b4fba5d56&#45;&gt;trained_model#0527d4469c984dd523cdc82e708fab39 -->\n",
       "<g id=\"edge38\" class=\"edge\">\n",
       "<title>train_model#581b8a537217a297cccdbc5b4fba5d56&#45;&gt;trained_model#0527d4469c984dd523cdc82e708fab39</title>\n",
       "<path fill=\"none\" stroke=\"black\" d=\"M290,-143.83C290,-143.83 290,-118.41 290,-118.41\"/>\n",
       "<polygon fill=\"black\" stroke=\"black\" points=\"293.5,-118.41 290,-108.41 286.5,-118.41 293.5,-118.41\"/>\n",
       "</g>\n",
       "<!-- selected_directors#cb5640b8366b92bdadbdac574a9fe21b&#45;&gt;all_features#774c82cc70a032575ca8139821820e14 -->\n",
       "<g id=\"edge20\" class=\"edge\">\n",
       "<title>selected_directors#cb5640b8366b92bdadbdac574a9fe21b&#45;&gt;all_features#774c82cc70a032575ca8139821820e14</title>\n",
       "<path fill=\"none\" stroke=\"black\" d=\"M362,-647.83C362,-626.5 362,-594 362,-594 362,-594 414.76,-594 414.76,-594\"/>\n",
       "<polygon fill=\"black\" stroke=\"black\" points=\"414.76,-597.5 424.76,-594 414.76,-590.5 414.76,-597.5\"/>\n",
       "</g>\n",
       "<!-- test_movies_mask#6331d1e37b2a877c0f01ceb51b0f96d8 -->\n",
       "<g id=\"node20\" class=\"node\">\n",
       "<title>test_movies_mask#6331d1e37b2a877c0f01ceb51b0f96d8</title>\n",
       "<polygon fill=\"#ffb482\" stroke=\"black\" points=\"399,-324 251,-324 251,-288 399,-288 399,-324\"/>\n",
       "<text text-anchor=\"start\" x=\"290\" y=\"-309.8\" font-family=\"Times-Roman\" font-size=\"10.00\">rating_model</text>\n",
       "<text text-anchor=\"start\" x=\"355\" y=\"-309.8\" font-family=\"Times-Roman\" font-size=\"14.00\"> </text>\n",
       "<text text-anchor=\"start\" x=\"259\" y=\"-295.8\" font-family=\"Times-Roman\" font-size=\"14.00\"> test_movies_mask</text>\n",
       "</g>\n",
       "<!-- test_movies_mask#6331d1e37b2a877c0f01ceb51b0f96d8&#45;&gt;train_x#145b214bda8529446d798d3a9d3859d8 -->\n",
       "<g id=\"edge30\" class=\"edge\">\n",
       "<title>test_movies_mask#6331d1e37b2a877c0f01ceb51b0f96d8&#45;&gt;train_x#145b214bda8529446d798d3a9d3859d8</title>\n",
       "<path fill=\"none\" stroke=\"black\" d=\"M361.5,-287.83C361.5,-287.83 361.5,-262.41 361.5,-262.41\"/>\n",
       "<polygon fill=\"black\" stroke=\"black\" points=\"365,-262.41 361.5,-252.41 358,-262.41 365,-262.41\"/>\n",
       "</g>\n",
       "<!-- test_movies_mask#6331d1e37b2a877c0f01ceb51b0f96d8&#45;&gt;test_x#145b214bda8529446d798d3a9d3859d8 -->\n",
       "<g id=\"edge31\" class=\"edge\">\n",
       "<title>test_movies_mask#6331d1e37b2a877c0f01ceb51b0f96d8&#45;&gt;test_x#145b214bda8529446d798d3a9d3859d8</title>\n",
       "<path fill=\"none\" stroke=\"black\" d=\"M399.44,-306C443.33,-306 490.33,-306 490.33,-306 490.33,-306 490.33,-262.17 490.33,-262.17\"/>\n",
       "<polygon fill=\"black\" stroke=\"black\" points=\"493.83,-262.17 490.33,-252.17 486.83,-262.17 493.83,-262.17\"/>\n",
       "</g>\n",
       "<!-- test_movies_mask#6331d1e37b2a877c0f01ceb51b0f96d8&#45;&gt;train_y#be0545c3599c83779141c460a0a381f7 -->\n",
       "<g id=\"edge32\" class=\"edge\">\n",
       "<title>test_movies_mask#6331d1e37b2a877c0f01ceb51b0f96d8&#45;&gt;train_y#be0545c3599c83779141c460a0a381f7</title>\n",
       "<path fill=\"none\" stroke=\"black\" d=\"M278.5,-287.83C278.5,-287.83 278.5,-262.41 278.5,-262.41\"/>\n",
       "<polygon fill=\"black\" stroke=\"black\" points=\"282,-262.41 278.5,-252.41 275,-262.41 282,-262.41\"/>\n",
       "</g>\n",
       "<!-- test_movies_mask#6331d1e37b2a877c0f01ceb51b0f96d8&#45;&gt;test_y#be0545c3599c83779141c460a0a381f7 -->\n",
       "<g id=\"edge33\" class=\"edge\">\n",
       "<title>test_movies_mask#6331d1e37b2a877c0f01ceb51b0f96d8&#45;&gt;test_y#be0545c3599c83779141c460a0a381f7</title>\n",
       "<path fill=\"none\" stroke=\"black\" d=\"M250.91,-306C186.8,-306 104.33,-306 104.33,-306 104.33,-306 104.33,-262.17 104.33,-262.17\"/>\n",
       "<polygon fill=\"black\" stroke=\"black\" points=\"107.83,-262.17 104.33,-252.17 100.83,-262.17 107.83,-262.17\"/>\n",
       "</g>\n",
       "<!-- feature_names#102a5c4ba575905f928d12389c32c9c3&#45;&gt;features#d03ec65c5462c85fe35ac85c9f8dfbe6 -->\n",
       "<g id=\"edge23\" class=\"edge\">\n",
       "<title>feature_names#102a5c4ba575905f928d12389c32c9c3&#45;&gt;features#d03ec65c5462c85fe35ac85c9f8dfbe6</title>\n",
       "<path fill=\"none\" stroke=\"black\" d=\"M468,-503.83C468,-503.83 468,-478.41 468,-478.41\"/>\n",
       "<polygon fill=\"black\" stroke=\"black\" points=\"471.5,-478.41 468,-468.41 464.5,-478.41 471.5,-478.41\"/>\n",
       "</g>\n",
       "<!-- all_x#9a51140e2f66d58caae832cf309ebc25&#45;&gt;train_x#145b214bda8529446d798d3a9d3859d8 -->\n",
       "<g id=\"edge26\" class=\"edge\">\n",
       "<title>all_x#9a51140e2f66d58caae832cf309ebc25&#45;&gt;train_x#145b214bda8529446d798d3a9d3859d8</title>\n",
       "<path fill=\"none\" stroke=\"black\" d=\"M433.5,-359.76C433.5,-359.76 433.5,-262.09 433.5,-262.09\"/>\n",
       "<polygon fill=\"black\" stroke=\"black\" points=\"437,-262.09 433.5,-252.09 430,-262.09 437,-262.09\"/>\n",
       "</g>\n",
       "<!-- all_x#9a51140e2f66d58caae832cf309ebc25&#45;&gt;test_x#145b214bda8529446d798d3a9d3859d8 -->\n",
       "<g id=\"edge27\" class=\"edge\">\n",
       "<title>all_x#9a51140e2f66d58caae832cf309ebc25&#45;&gt;test_x#145b214bda8529446d798d3a9d3859d8</title>\n",
       "<path fill=\"none\" stroke=\"black\" d=\"M494.67,-359.76C494.67,-359.76 494.67,-262.09 494.67,-262.09\"/>\n",
       "<polygon fill=\"black\" stroke=\"black\" points=\"498.17,-262.09 494.67,-252.09 491.17,-262.09 498.17,-262.09\"/>\n",
       "</g>\n",
       "<!-- all_x#9a51140e2f66d58caae832cf309ebc25&#45;&gt;test_movies_mask#6331d1e37b2a877c0f01ceb51b0f96d8 -->\n",
       "<g id=\"edge25\" class=\"edge\">\n",
       "<title>all_x#9a51140e2f66d58caae832cf309ebc25&#45;&gt;test_movies_mask#6331d1e37b2a877c0f01ceb51b0f96d8</title>\n",
       "<path fill=\"none\" stroke=\"black\" d=\"M377,-359.83C377,-359.83 377,-334.41 377,-334.41\"/>\n",
       "<polygon fill=\"black\" stroke=\"black\" points=\"380.5,-334.41 377,-324.41 373.5,-334.41 380.5,-334.41\"/>\n",
       "</g>\n",
       "</g>\n",
       "</svg>\n"
      ],
      "text/plain": [
       "<graphviz.dot.Digraph at 0x7f6d74993d00>"
      ]
     },
     "execution_count": 16,
     "metadata": {},
     "output_type": "execute_result"
    }
   ],
   "source": [
    "chains['baseline'].draw()"
   ]
  },
  {
   "cell_type": "code",
   "execution_count": 17,
   "metadata": {},
   "outputs": [
    {
     "data": {
      "text/plain": [
       "{'MAE': 0.8731014395283144, 'RMSE': 1.1362462378721352}"
      ]
     },
     "execution_count": 17,
     "metadata": {},
     "output_type": "execute_result"
    }
   ],
   "source": [
    "# request test_metrics and trigger computation of all necceserray tasks (feature preparation, model training etc.)\n",
    "chains['baseline'].test_metrics.value"
   ]
  },
  {
   "cell_type": "code",
   "execution_count": 18,
   "metadata": {},
   "outputs": [
    {
     "name": "stdout",
     "output_type": "stream",
     "text": [
      "            baseline: 1.136 0.873\n",
      "   linear_regression: 0.931 0.693\n",
      "                  nn: 0.978 0.738\n",
      "tf_linear_regression: 0.916 0.689\n"
     ]
    }
   ],
   "source": [
    "# now get metrics for all models - not only training of new models is done, features are already computed and loaded\n",
    "for name, chain in chains.items():\n",
    "    _ = chain.test_metrics.value\n",
    "\n",
    "for name, chain in chains.items():\n",
    "    print(f'{name:>20}: {chain.test_metrics.value[\"RMSE\"]:.3f} {chain.test_metrics.value[\"MAE\"]:.3f}')\n"
   ]
  },
  {
   "cell_type": "markdown",
   "metadata": {},
   "source": [
    "## Exercise \n",
    "\n",
    "- add own config\n",
    "    - for movies movies with different filtering - task `all_movies` shoud not be recomputed\n",
    "    - for models trained only on personal data\n",
    "        - set `user_rating_file` parameter \n",
    "- add own tasks\n",
    "    - e.g. for analyse ratings per ganres\n",
    "        - avg\n",
    "        - histograms\n",
    "        - the best genre combination\n",
    "- add own pipeline\n",
    "    - analyze personal ratings\n",
    "    - movies as prerequisite to get more data about movies\n",
    "    - use your imagination on what analasys is interesting\n"
   ]
  }
 ],
 "metadata": {
  "kernelspec": {
   "display_name": "Python 3",
   "language": "python",
   "name": "python3"
  },
  "language_info": {
   "codemirror_mode": {
    "name": "ipython",
    "version": 3
   },
   "file_extension": ".py",
   "mimetype": "text/x-python",
   "name": "python",
   "nbconvert_exporter": "python",
   "pygments_lexer": "ipython3",
   "version": "3.8.5"
  }
 },
 "nbformat": 4,
 "nbformat_minor": 4
}
