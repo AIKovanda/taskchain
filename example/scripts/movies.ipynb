{
 "cells": [
  {
   "cell_type": "code",
   "execution_count": 1,
   "metadata": {
    "collapsed": false,
    "jupyter": {
     "outputs_hidden": false
    },
    "pycharm": {
     "name": "#%%\n"
    }
   },
   "outputs": [],
   "source": [
    "%load_ext autoreload\n",
    "%autoreload 2"
   ]
  },
  {
   "cell_type": "markdown",
   "metadata": {
    "pycharm": {
     "name": "#%% md\n"
    }
   },
   "source": [
    "# Movies"
   ]
  },
  {
   "cell_type": "code",
   "execution_count": 2,
   "metadata": {
    "tags": []
   },
   "outputs": [],
   "source": [
    "import matplotlib.pyplot as plt\n",
    "\n",
    "from movie_ratings import config\n",
    "from taskchain import Config"
   ]
  },
  {
   "cell_type": "code",
   "execution_count": 3,
   "metadata": {
    "collapsed": false,
    "jupyter": {
     "outputs_hidden": false
    },
    "pycharm": {
     "name": "#%%\n"
    }
   },
   "outputs": [
    {
     "data": {
      "text/markdown": [
       "|                           | name               | group   | namespace   | computed   |\n",
       "|:--------------------------|:-------------------|:--------|:------------|:-----------|\n",
       "| movies:all_movies         | all_movies         | movies  |             | True       |\n",
       "| movies:movies             | movies             | movies  |             | True       |\n",
       "| movies:movie_names        | movie_names        | movies  |             | True       |\n",
       "| movies:duration_histogram | duration_histogram | movies  |             | True       |\n",
       "| movies:year_histogram     | year_histogram     | movies  |             | True       |\n",
       "| movies:directors          | directors          | movies  |             | True       |\n",
       "| movies:genres             | genres             | movies  |             | True       |\n",
       "| movies:countries          | countries          | movies  |             | True       |\n",
       "| movies:actors             | actors             | movies  |             | True       |"
      ],
      "text/plain": [
       "<chain for config `imdb.filtered`>"
      ]
     },
     "execution_count": 3,
     "metadata": {},
     "output_type": "execute_result"
    }
   ],
   "source": [
    "# config_name = 'movies/imdb.all.yaml'\n",
    "config_name = 'movies/imdb.filtered.yaml'\n",
    "chain = Config(config.TASKS_DIR, config.CONFIGS_DIR / config_name, global_vars=config).chain()\n",
    "chain"
   ]
  },
  {
   "cell_type": "code",
   "execution_count": 4,
   "metadata": {
    "collapsed": false,
    "jupyter": {
     "outputs_hidden": false
    },
    "pycharm": {
     "name": "#%%\n"
    }
   },
   "outputs": [
    {
     "name": "stdout",
     "output_type": "stream",
     "text": [
      "Movie count: 28215\n"
     ]
    },
    {
     "data": {
      "text/html": [
       "<div>\n",
       "<style scoped>\n",
       "    .dataframe tbody tr th:only-of-type {\n",
       "        vertical-align: middle;\n",
       "    }\n",
       "\n",
       "    .dataframe tbody tr th {\n",
       "        vertical-align: top;\n",
       "    }\n",
       "\n",
       "    .dataframe thead th {\n",
       "        text-align: right;\n",
       "    }\n",
       "</style>\n",
       "<table border=\"1\" class=\"dataframe\">\n",
       "  <thead>\n",
       "    <tr style=\"text-align: right;\">\n",
       "      <th></th>\n",
       "      <th>imdb_title_id</th>\n",
       "      <th>title</th>\n",
       "      <th>original_title</th>\n",
       "      <th>year</th>\n",
       "      <th>date_published</th>\n",
       "      <th>genre</th>\n",
       "      <th>duration</th>\n",
       "      <th>country</th>\n",
       "      <th>language</th>\n",
       "      <th>director</th>\n",
       "      <th>...</th>\n",
       "      <th>actors</th>\n",
       "      <th>description</th>\n",
       "      <th>avg_vote</th>\n",
       "      <th>votes</th>\n",
       "      <th>budget</th>\n",
       "      <th>usa_gross_income</th>\n",
       "      <th>worlwide_gross_income</th>\n",
       "      <th>metascore</th>\n",
       "      <th>reviews_from_users</th>\n",
       "      <th>reviews_from_critics</th>\n",
       "    </tr>\n",
       "    <tr>\n",
       "      <th>imdb_title_id</th>\n",
       "      <th></th>\n",
       "      <th></th>\n",
       "      <th></th>\n",
       "      <th></th>\n",
       "      <th></th>\n",
       "      <th></th>\n",
       "      <th></th>\n",
       "      <th></th>\n",
       "      <th></th>\n",
       "      <th></th>\n",
       "      <th></th>\n",
       "      <th></th>\n",
       "      <th></th>\n",
       "      <th></th>\n",
       "      <th></th>\n",
       "      <th></th>\n",
       "      <th></th>\n",
       "      <th></th>\n",
       "      <th></th>\n",
       "      <th></th>\n",
       "      <th></th>\n",
       "    </tr>\n",
       "  </thead>\n",
       "  <tbody>\n",
       "    <tr>\n",
       "      <th>tt0116704</th>\n",
       "      <td>tt0116704</td>\n",
       "      <td>First Strike</td>\n",
       "      <td>Ging chaat goo si 4: Gaan dan yam mo</td>\n",
       "      <td>1996</td>\n",
       "      <td>1998-06-26</td>\n",
       "      <td>Action, Adventure, Comedy</td>\n",
       "      <td>107</td>\n",
       "      <td>Hong Kong</td>\n",
       "      <td>English, Cantonese, Mandarin, Russian, Ukrainian</td>\n",
       "      <td>Stanley Tong</td>\n",
       "      <td>...</td>\n",
       "      <td>Jackie Chan, Jackson Lou, Annie Wu, Bill Tung,...</td>\n",
       "      <td>This fourth installment of Chan's Police Story...</td>\n",
       "      <td>6.6</td>\n",
       "      <td>18816</td>\n",
       "      <td>NaN</td>\n",
       "      <td>$ 15318863</td>\n",
       "      <td>$ 21890845</td>\n",
       "      <td>NaN</td>\n",
       "      <td>64.0</td>\n",
       "      <td>60.0</td>\n",
       "    </tr>\n",
       "    <tr>\n",
       "      <th>tt2097331</th>\n",
       "      <td>tt2097331</td>\n",
       "      <td>La famiglia Fang</td>\n",
       "      <td>The Family Fang</td>\n",
       "      <td>2015</td>\n",
       "      <td>2016-09-01</td>\n",
       "      <td>Comedy, Drama, Mystery</td>\n",
       "      <td>105</td>\n",
       "      <td>USA</td>\n",
       "      <td>English</td>\n",
       "      <td>Jason Bateman</td>\n",
       "      <td>...</td>\n",
       "      <td>Marin Ireland, Jason Bateman, Nicole Kidman, K...</td>\n",
       "      <td>A brother and sister return to their family ho...</td>\n",
       "      <td>6.1</td>\n",
       "      <td>7682</td>\n",
       "      <td>NaN</td>\n",
       "      <td>$ 262921</td>\n",
       "      <td>$ 649555</td>\n",
       "      <td>67.0</td>\n",
       "      <td>41.0</td>\n",
       "      <td>74.0</td>\n",
       "    </tr>\n",
       "    <tr>\n",
       "      <th>tt0280380</th>\n",
       "      <td>tt0280380</td>\n",
       "      <td>24 ore</td>\n",
       "      <td>Trapped</td>\n",
       "      <td>2002</td>\n",
       "      <td>2003-03-14</td>\n",
       "      <td>Action, Crime, Drama</td>\n",
       "      <td>106</td>\n",
       "      <td>USA, Germany</td>\n",
       "      <td>English</td>\n",
       "      <td>Luis Mandoki</td>\n",
       "      <td>...</td>\n",
       "      <td>Charlize Theron, Courtney Love, Stuart Townsen...</td>\n",
       "      <td>The Jennings' fight for their daughters life a...</td>\n",
       "      <td>6.2</td>\n",
       "      <td>22504</td>\n",
       "      <td>$ 30000000</td>\n",
       "      <td>$ 7073251</td>\n",
       "      <td>$ 13414416</td>\n",
       "      <td>42.0</td>\n",
       "      <td>141.0</td>\n",
       "      <td>64.0</td>\n",
       "    </tr>\n",
       "    <tr>\n",
       "      <th>tt4733640</th>\n",
       "      <td>tt4733640</td>\n",
       "      <td>The Limehouse Golem - Mistero sul Tamigi</td>\n",
       "      <td>The Limehouse Golem</td>\n",
       "      <td>2016</td>\n",
       "      <td>2017-09-01</td>\n",
       "      <td>Crime, Mystery, Thriller</td>\n",
       "      <td>109</td>\n",
       "      <td>UK</td>\n",
       "      <td>English, Irish, Chinese, Hebrew, Yiddish</td>\n",
       "      <td>Juan Carlos Medina</td>\n",
       "      <td>...</td>\n",
       "      <td>Douglas Booth, Olivia Cooke, Sam Reid, María V...</td>\n",
       "      <td>In Victorian London, a Scotland Yard inspector...</td>\n",
       "      <td>6.3</td>\n",
       "      <td>17836</td>\n",
       "      <td>NaN</td>\n",
       "      <td>NaN</td>\n",
       "      <td>$ 2327419</td>\n",
       "      <td>63.0</td>\n",
       "      <td>123.0</td>\n",
       "      <td>146.0</td>\n",
       "    </tr>\n",
       "    <tr>\n",
       "      <th>tt0296166</th>\n",
       "      <td>tt0296166</td>\n",
       "      <td>Le donne vere hanno le curve</td>\n",
       "      <td>Real Women Have Curves</td>\n",
       "      <td>2002</td>\n",
       "      <td>2003-03-14</td>\n",
       "      <td>Comedy, Drama</td>\n",
       "      <td>90</td>\n",
       "      <td>USA</td>\n",
       "      <td>English, Spanish</td>\n",
       "      <td>Patricia Cardoso</td>\n",
       "      <td>...</td>\n",
       "      <td>America Ferrera, Lupe Ontiveros, Ingrid Oliu, ...</td>\n",
       "      <td>In East Los Angeles, an 18-year-old struggles ...</td>\n",
       "      <td>6.8</td>\n",
       "      <td>6955</td>\n",
       "      <td>$ 3000000</td>\n",
       "      <td>$ 5853194</td>\n",
       "      <td>$ 7777790</td>\n",
       "      <td>71.0</td>\n",
       "      <td>108.0</td>\n",
       "      <td>74.0</td>\n",
       "    </tr>\n",
       "  </tbody>\n",
       "</table>\n",
       "<p>5 rows × 22 columns</p>\n",
       "</div>"
      ],
      "text/plain": [
       "              imdb_title_id                                     title  \\\n",
       "imdb_title_id                                                           \n",
       "tt0116704         tt0116704                              First Strike   \n",
       "tt2097331         tt2097331                          La famiglia Fang   \n",
       "tt0280380         tt0280380                                    24 ore   \n",
       "tt4733640         tt4733640  The Limehouse Golem - Mistero sul Tamigi   \n",
       "tt0296166         tt0296166              Le donne vere hanno le curve   \n",
       "\n",
       "                                     original_title  year date_published  \\\n",
       "imdb_title_id                                                              \n",
       "tt0116704      Ging chaat goo si 4: Gaan dan yam mo  1996     1998-06-26   \n",
       "tt2097331                           The Family Fang  2015     2016-09-01   \n",
       "tt0280380                                   Trapped  2002     2003-03-14   \n",
       "tt4733640                       The Limehouse Golem  2016     2017-09-01   \n",
       "tt0296166                    Real Women Have Curves  2002     2003-03-14   \n",
       "\n",
       "                                   genre  duration       country  \\\n",
       "imdb_title_id                                                      \n",
       "tt0116704      Action, Adventure, Comedy       107     Hong Kong   \n",
       "tt2097331         Comedy, Drama, Mystery       105           USA   \n",
       "tt0280380           Action, Crime, Drama       106  USA, Germany   \n",
       "tt4733640       Crime, Mystery, Thriller       109            UK   \n",
       "tt0296166                  Comedy, Drama        90           USA   \n",
       "\n",
       "                                                       language  \\\n",
       "imdb_title_id                                                     \n",
       "tt0116704      English, Cantonese, Mandarin, Russian, Ukrainian   \n",
       "tt2097331                                               English   \n",
       "tt0280380                                               English   \n",
       "tt4733640              English, Irish, Chinese, Hebrew, Yiddish   \n",
       "tt0296166                                      English, Spanish   \n",
       "\n",
       "                         director  ...  \\\n",
       "imdb_title_id                      ...   \n",
       "tt0116704            Stanley Tong  ...   \n",
       "tt2097331           Jason Bateman  ...   \n",
       "tt0280380            Luis Mandoki  ...   \n",
       "tt4733640      Juan Carlos Medina  ...   \n",
       "tt0296166        Patricia Cardoso  ...   \n",
       "\n",
       "                                                          actors  \\\n",
       "imdb_title_id                                                      \n",
       "tt0116704      Jackie Chan, Jackson Lou, Annie Wu, Bill Tung,...   \n",
       "tt2097331      Marin Ireland, Jason Bateman, Nicole Kidman, K...   \n",
       "tt0280380      Charlize Theron, Courtney Love, Stuart Townsen...   \n",
       "tt4733640      Douglas Booth, Olivia Cooke, Sam Reid, María V...   \n",
       "tt0296166      America Ferrera, Lupe Ontiveros, Ingrid Oliu, ...   \n",
       "\n",
       "                                                     description avg_vote  \\\n",
       "imdb_title_id                                                               \n",
       "tt0116704      This fourth installment of Chan's Police Story...      6.6   \n",
       "tt2097331      A brother and sister return to their family ho...      6.1   \n",
       "tt0280380      The Jennings' fight for their daughters life a...      6.2   \n",
       "tt4733640      In Victorian London, a Scotland Yard inspector...      6.3   \n",
       "tt0296166      In East Los Angeles, an 18-year-old struggles ...      6.8   \n",
       "\n",
       "               votes      budget  usa_gross_income worlwide_gross_income  \\\n",
       "imdb_title_id                                                              \n",
       "tt0116704      18816         NaN        $ 15318863            $ 21890845   \n",
       "tt2097331       7682         NaN          $ 262921              $ 649555   \n",
       "tt0280380      22504  $ 30000000         $ 7073251            $ 13414416   \n",
       "tt4733640      17836         NaN               NaN             $ 2327419   \n",
       "tt0296166       6955   $ 3000000         $ 5853194             $ 7777790   \n",
       "\n",
       "              metascore reviews_from_users  reviews_from_critics  \n",
       "imdb_title_id                                                     \n",
       "tt0116704           NaN               64.0                  60.0  \n",
       "tt2097331          67.0               41.0                  74.0  \n",
       "tt0280380          42.0              141.0                  64.0  \n",
       "tt4733640          63.0              123.0                 146.0  \n",
       "tt0296166          71.0              108.0                  74.0  \n",
       "\n",
       "[5 rows x 22 columns]"
      ]
     },
     "execution_count": 4,
     "metadata": {},
     "output_type": "execute_result"
    }
   ],
   "source": [
    "print(f'Movie count: {len(chain.movies.value)}')\n",
    "chain.movies.value.sample(5)"
   ]
  },
  {
   "cell_type": "code",
   "execution_count": 5,
   "metadata": {
    "collapsed": false,
    "jupyter": {
     "outputs_hidden": false
    },
    "pycharm": {
     "name": "#%%\n"
    }
   },
   "outputs": [
    {
     "data": {
      "text/plain": [
       "Index(['imdb_title_id', 'title', 'original_title', 'year', 'date_published',\n",
       "       'genre', 'duration', 'country', 'language', 'director', 'writer',\n",
       "       'production_company', 'actors', 'description', 'avg_vote', 'votes',\n",
       "       'budget', 'usa_gross_income', 'worlwide_gross_income', 'metascore',\n",
       "       'reviews_from_users', 'reviews_from_critics'],\n",
       "      dtype='object')"
      ]
     },
     "execution_count": 5,
     "metadata": {},
     "output_type": "execute_result"
    }
   ],
   "source": [
    "chain.movies.value.columns"
   ]
  },
  {
   "cell_type": "markdown",
   "metadata": {
    "pycharm": {
     "name": "#%% md\n"
    }
   },
   "source": [
    "### Top movies"
   ]
  },
  {
   "cell_type": "code",
   "execution_count": 6,
   "metadata": {
    "collapsed": false,
    "jupyter": {
     "outputs_hidden": false
    },
    "pycharm": {
     "name": "#%%\n"
    }
   },
   "outputs": [
    {
     "data": {
      "text/html": [
       "<div>\n",
       "<style scoped>\n",
       "    .dataframe tbody tr th:only-of-type {\n",
       "        vertical-align: middle;\n",
       "    }\n",
       "\n",
       "    .dataframe tbody tr th {\n",
       "        vertical-align: top;\n",
       "    }\n",
       "\n",
       "    .dataframe thead th {\n",
       "        text-align: right;\n",
       "    }\n",
       "</style>\n",
       "<table border=\"1\" class=\"dataframe\">\n",
       "  <thead>\n",
       "    <tr style=\"text-align: right;\">\n",
       "      <th></th>\n",
       "      <th>imdb_title_id</th>\n",
       "      <th>title</th>\n",
       "      <th>original_title</th>\n",
       "      <th>year</th>\n",
       "      <th>date_published</th>\n",
       "      <th>genre</th>\n",
       "      <th>duration</th>\n",
       "      <th>country</th>\n",
       "      <th>language</th>\n",
       "      <th>director</th>\n",
       "      <th>...</th>\n",
       "      <th>actors</th>\n",
       "      <th>description</th>\n",
       "      <th>avg_vote</th>\n",
       "      <th>votes</th>\n",
       "      <th>budget</th>\n",
       "      <th>usa_gross_income</th>\n",
       "      <th>worlwide_gross_income</th>\n",
       "      <th>metascore</th>\n",
       "      <th>reviews_from_users</th>\n",
       "      <th>reviews_from_critics</th>\n",
       "    </tr>\n",
       "    <tr>\n",
       "      <th>imdb_title_id</th>\n",
       "      <th></th>\n",
       "      <th></th>\n",
       "      <th></th>\n",
       "      <th></th>\n",
       "      <th></th>\n",
       "      <th></th>\n",
       "      <th></th>\n",
       "      <th></th>\n",
       "      <th></th>\n",
       "      <th></th>\n",
       "      <th></th>\n",
       "      <th></th>\n",
       "      <th></th>\n",
       "      <th></th>\n",
       "      <th></th>\n",
       "      <th></th>\n",
       "      <th></th>\n",
       "      <th></th>\n",
       "      <th></th>\n",
       "      <th></th>\n",
       "      <th></th>\n",
       "    </tr>\n",
       "  </thead>\n",
       "  <tbody>\n",
       "    <tr>\n",
       "      <th>tt0111161</th>\n",
       "      <td>tt0111161</td>\n",
       "      <td>Le ali della libertà</td>\n",
       "      <td>The Shawshank Redemption</td>\n",
       "      <td>1994</td>\n",
       "      <td>1995-02-10</td>\n",
       "      <td>Drama</td>\n",
       "      <td>142</td>\n",
       "      <td>USA</td>\n",
       "      <td>English</td>\n",
       "      <td>Frank Darabont</td>\n",
       "      <td>...</td>\n",
       "      <td>Tim Robbins, Morgan Freeman, Bob Gunton, Willi...</td>\n",
       "      <td>Two imprisoned men bond over a number of years...</td>\n",
       "      <td>9.3</td>\n",
       "      <td>2278845</td>\n",
       "      <td>$ 25000000</td>\n",
       "      <td>$ 28699976</td>\n",
       "      <td>$ 28815245</td>\n",
       "      <td>80.0</td>\n",
       "      <td>8232.0</td>\n",
       "      <td>164.0</td>\n",
       "    </tr>\n",
       "    <tr>\n",
       "      <th>tt0068646</th>\n",
       "      <td>tt0068646</td>\n",
       "      <td>Il padrino</td>\n",
       "      <td>The Godfather</td>\n",
       "      <td>1972</td>\n",
       "      <td>1972-09-21</td>\n",
       "      <td>Crime, Drama</td>\n",
       "      <td>175</td>\n",
       "      <td>USA</td>\n",
       "      <td>English, Italian, Latin</td>\n",
       "      <td>Francis Ford Coppola</td>\n",
       "      <td>...</td>\n",
       "      <td>Marlon Brando, Al Pacino, James Caan, Richard ...</td>\n",
       "      <td>The aging patriarch of an organized crime dyna...</td>\n",
       "      <td>9.2</td>\n",
       "      <td>1572674</td>\n",
       "      <td>$ 6000000</td>\n",
       "      <td>$ 134966411</td>\n",
       "      <td>$ 246120974</td>\n",
       "      <td>100.0</td>\n",
       "      <td>3977.0</td>\n",
       "      <td>253.0</td>\n",
       "    </tr>\n",
       "    <tr>\n",
       "      <th>tt0071562</th>\n",
       "      <td>tt0071562</td>\n",
       "      <td>Il padrino - Parte II</td>\n",
       "      <td>The Godfather: Part II</td>\n",
       "      <td>1974</td>\n",
       "      <td>1975-09-25</td>\n",
       "      <td>Crime, Drama</td>\n",
       "      <td>202</td>\n",
       "      <td>USA</td>\n",
       "      <td>English, Italian, Spanish, Latin, Sicilian</td>\n",
       "      <td>Francis Ford Coppola</td>\n",
       "      <td>...</td>\n",
       "      <td>Al Pacino, Robert Duvall, Diane Keaton, Robert...</td>\n",
       "      <td>The early life and career of Vito Corleone in ...</td>\n",
       "      <td>9.0</td>\n",
       "      <td>1098714</td>\n",
       "      <td>$ 13000000</td>\n",
       "      <td>$ 47834595</td>\n",
       "      <td>$ 48035783</td>\n",
       "      <td>90.0</td>\n",
       "      <td>1030.0</td>\n",
       "      <td>178.0</td>\n",
       "    </tr>\n",
       "    <tr>\n",
       "      <th>tt0468569</th>\n",
       "      <td>tt0468569</td>\n",
       "      <td>Il cavaliere oscuro</td>\n",
       "      <td>The Dark Knight</td>\n",
       "      <td>2008</td>\n",
       "      <td>2008-07-23</td>\n",
       "      <td>Action, Crime, Drama</td>\n",
       "      <td>152</td>\n",
       "      <td>USA, UK</td>\n",
       "      <td>English, Mandarin</td>\n",
       "      <td>Christopher Nolan</td>\n",
       "      <td>...</td>\n",
       "      <td>Christian Bale, Heath Ledger, Aaron Eckhart, M...</td>\n",
       "      <td>When the menace known as the Joker wreaks havo...</td>\n",
       "      <td>9.0</td>\n",
       "      <td>2241615</td>\n",
       "      <td>$ 185000000</td>\n",
       "      <td>$ 535234033</td>\n",
       "      <td>$ 1005455211</td>\n",
       "      <td>84.0</td>\n",
       "      <td>6938.0</td>\n",
       "      <td>423.0</td>\n",
       "    </tr>\n",
       "    <tr>\n",
       "      <th>tt0110912</th>\n",
       "      <td>tt0110912</td>\n",
       "      <td>Pulp Fiction</td>\n",
       "      <td>Pulp Fiction</td>\n",
       "      <td>1994</td>\n",
       "      <td>1994-10-28</td>\n",
       "      <td>Crime, Drama</td>\n",
       "      <td>154</td>\n",
       "      <td>USA</td>\n",
       "      <td>English, Spanish, French</td>\n",
       "      <td>Quentin Tarantino</td>\n",
       "      <td>...</td>\n",
       "      <td>Tim Roth, Amanda Plummer, Laura Lovelace, John...</td>\n",
       "      <td>The lives of two mob hitmen, a boxer, a gangst...</td>\n",
       "      <td>8.9</td>\n",
       "      <td>1780147</td>\n",
       "      <td>$ 8000000</td>\n",
       "      <td>$ 107928762</td>\n",
       "      <td>$ 222831817</td>\n",
       "      <td>94.0</td>\n",
       "      <td>3058.0</td>\n",
       "      <td>289.0</td>\n",
       "    </tr>\n",
       "  </tbody>\n",
       "</table>\n",
       "<p>5 rows × 22 columns</p>\n",
       "</div>"
      ],
      "text/plain": [
       "              imdb_title_id                  title            original_title  \\\n",
       "imdb_title_id                                                                  \n",
       "tt0111161         tt0111161   Le ali della libertà  The Shawshank Redemption   \n",
       "tt0068646         tt0068646             Il padrino             The Godfather   \n",
       "tt0071562         tt0071562  Il padrino - Parte II    The Godfather: Part II   \n",
       "tt0468569         tt0468569    Il cavaliere oscuro           The Dark Knight   \n",
       "tt0110912         tt0110912           Pulp Fiction              Pulp Fiction   \n",
       "\n",
       "               year date_published                 genre  duration  country  \\\n",
       "imdb_title_id                                                                 \n",
       "tt0111161      1994     1995-02-10                 Drama       142      USA   \n",
       "tt0068646      1972     1972-09-21          Crime, Drama       175      USA   \n",
       "tt0071562      1974     1975-09-25          Crime, Drama       202      USA   \n",
       "tt0468569      2008     2008-07-23  Action, Crime, Drama       152  USA, UK   \n",
       "tt0110912      1994     1994-10-28          Crime, Drama       154      USA   \n",
       "\n",
       "                                                 language  \\\n",
       "imdb_title_id                                               \n",
       "tt0111161                                         English   \n",
       "tt0068646                         English, Italian, Latin   \n",
       "tt0071562      English, Italian, Spanish, Latin, Sicilian   \n",
       "tt0468569                               English, Mandarin   \n",
       "tt0110912                        English, Spanish, French   \n",
       "\n",
       "                           director  ...  \\\n",
       "imdb_title_id                        ...   \n",
       "tt0111161            Frank Darabont  ...   \n",
       "tt0068646      Francis Ford Coppola  ...   \n",
       "tt0071562      Francis Ford Coppola  ...   \n",
       "tt0468569         Christopher Nolan  ...   \n",
       "tt0110912         Quentin Tarantino  ...   \n",
       "\n",
       "                                                          actors  \\\n",
       "imdb_title_id                                                      \n",
       "tt0111161      Tim Robbins, Morgan Freeman, Bob Gunton, Willi...   \n",
       "tt0068646      Marlon Brando, Al Pacino, James Caan, Richard ...   \n",
       "tt0071562      Al Pacino, Robert Duvall, Diane Keaton, Robert...   \n",
       "tt0468569      Christian Bale, Heath Ledger, Aaron Eckhart, M...   \n",
       "tt0110912      Tim Roth, Amanda Plummer, Laura Lovelace, John...   \n",
       "\n",
       "                                                     description avg_vote  \\\n",
       "imdb_title_id                                                               \n",
       "tt0111161      Two imprisoned men bond over a number of years...      9.3   \n",
       "tt0068646      The aging patriarch of an organized crime dyna...      9.2   \n",
       "tt0071562      The early life and career of Vito Corleone in ...      9.0   \n",
       "tt0468569      When the menace known as the Joker wreaks havo...      9.0   \n",
       "tt0110912      The lives of two mob hitmen, a boxer, a gangst...      8.9   \n",
       "\n",
       "                 votes       budget  usa_gross_income worlwide_gross_income  \\\n",
       "imdb_title_id                                                                 \n",
       "tt0111161      2278845   $ 25000000        $ 28699976            $ 28815245   \n",
       "tt0068646      1572674    $ 6000000       $ 134966411           $ 246120974   \n",
       "tt0071562      1098714   $ 13000000        $ 47834595            $ 48035783   \n",
       "tt0468569      2241615  $ 185000000       $ 535234033          $ 1005455211   \n",
       "tt0110912      1780147    $ 8000000       $ 107928762           $ 222831817   \n",
       "\n",
       "              metascore reviews_from_users  reviews_from_critics  \n",
       "imdb_title_id                                                     \n",
       "tt0111161          80.0             8232.0                 164.0  \n",
       "tt0068646         100.0             3977.0                 253.0  \n",
       "tt0071562          90.0             1030.0                 178.0  \n",
       "tt0468569          84.0             6938.0                 423.0  \n",
       "tt0110912          94.0             3058.0                 289.0  \n",
       "\n",
       "[5 rows x 22 columns]"
      ]
     },
     "execution_count": 6,
     "metadata": {},
     "output_type": "execute_result"
    }
   ],
   "source": [
    "min_votes = 10 ** 3\n",
    "chain.movies.value\\\n",
    "    .query(f'reviews_from_users > {min_votes}')\\\n",
    "    .sort_values('avg_vote', ascending=False)\\\n",
    "    .head()"
   ]
  },
  {
   "cell_type": "code",
   "execution_count": 7,
   "metadata": {},
   "outputs": [
    {
     "data": {
      "image/png": "[encoded data removed]",
      "text/plain": [
       "<Figure size 432x288 with 1 Axes>"
      ]
     },
     "execution_count": 7,
     "metadata": {},
     "output_type": "execute_result"
    },
    {
     "data": {
      "image/png": "[encoded data removed]",
      "text/plain": [
       "<Figure size 432x288 with 1 Axes>"
      ]
     },
     "metadata": {
      "needs_background": "light"
     },
     "output_type": "display_data"
    }
   ],
   "source": [
    "chain.duration_histogram.value"
   ]
  },
  {
   "cell_type": "code",
   "execution_count": 8,
   "metadata": {
    "collapsed": false,
    "jupyter": {
     "outputs_hidden": false
    },
    "pycharm": {
     "name": "#%%\n"
    }
   },
   "outputs": [
    {
     "data": {
      "image/png": "[encoded data removed]",
      "text/plain": [
       "<Figure size 432x288 with 1 Axes>"
      ]
     },
     "execution_count": 8,
     "metadata": {},
     "output_type": "execute_result"
    },
    {
     "data": {
      "image/png": "[encoded data removed]",
      "text/plain": [
       "<Figure size 432x288 with 1 Axes>"
      ]
     },
     "metadata": {
      "needs_background": "light"
     },
     "output_type": "display_data"
    }
   ],
   "source": [
    "chain.year_histogram.value"
   ]
  },
  {
   "cell_type": "markdown",
   "metadata": {
    "pycharm": {
     "name": "#%% md\n"
    }
   },
   "source": [
    "## Directors"
   ]
  },
  {
   "cell_type": "code",
   "execution_count": 9,
   "metadata": {
    "collapsed": false,
    "jupyter": {
     "outputs_hidden": false
    },
    "pycharm": {
     "name": "#%%\n"
    }
   },
   "outputs": [
    {
     "data": {
      "text/plain": [
       "12263"
      ]
     },
     "execution_count": 9,
     "metadata": {},
     "output_type": "execute_result"
    }
   ],
   "source": [
    "len(chain.directors.value)"
   ]
  },
  {
   "cell_type": "markdown",
   "metadata": {
    "pycharm": {
     "name": "#%% md\n"
    }
   },
   "source": [
    "## Actors"
   ]
  },
  {
   "cell_type": "code",
   "execution_count": 10,
   "metadata": {
    "collapsed": false,
    "jupyter": {
     "outputs_hidden": false
    },
    "pycharm": {
     "name": "#%%\n"
    }
   },
   "outputs": [
    {
     "data": {
      "text/plain": [
       "173183"
      ]
     },
     "execution_count": 10,
     "metadata": {},
     "output_type": "execute_result"
    }
   ],
   "source": [
    "len(chain.actors.value)"
   ]
  },
  {
   "cell_type": "code",
   "execution_count": 11,
   "metadata": {
    "collapsed": false,
    "jupyter": {
     "outputs_hidden": false
    },
    "pycharm": {
     "name": "#%%\n"
    }
   },
   "outputs": [],
   "source": [
    "## Genres"
   ]
  },
  {
   "cell_type": "code",
   "execution_count": 12,
   "metadata": {
    "collapsed": false,
    "jupyter": {
     "outputs_hidden": false
    },
    "pycharm": {
     "name": "#%%\n"
    }
   },
   "outputs": [
    {
     "name": "stdout",
     "output_type": "stream",
     "text": [
      "Action 5602\n",
      "Adult 1\n",
      "Adventure 3300\n",
      "Animation 977\n",
      "Biography 1298\n",
      "Comedy 10276\n",
      "Crime 4689\n",
      "Documentary 1\n",
      "Drama 16030\n",
      "Family 1219\n",
      "Fantasy 1670\n",
      "Film-Noir 243\n",
      "History 942\n",
      "Horror 3736\n",
      "Music 730\n",
      "Musical 499\n",
      "Mystery 2198\n",
      "Romance 5051\n",
      "Sci-Fi 1620\n",
      "Sport 474\n",
      "Thriller 4436\n",
      "War 730\n",
      "Western 420\n"
     ]
    }
   ],
   "source": [
    "genres = chain.genres.value\n",
    "for genres, movies in genres.items():\n",
    "    print(genres, len(movies))"
   ]
  },
  {
   "cell_type": "markdown",
   "metadata": {
    "pycharm": {
     "name": "#%% md\n"
    }
   },
   "source": [
    "## Countries\n"
   ]
  },
  {
   "cell_type": "code",
   "execution_count": 13,
   "metadata": {
    "collapsed": false,
    "jupyter": {
     "outputs_hidden": false
    },
    "pycharm": {
     "name": "#%%\n"
    }
   },
   "outputs": [
    {
     "name": "stdout",
     "output_type": "stream",
     "text": [
      "Afghanistan 3\n",
      "Albania 7\n",
      "Algeria 11\n",
      "Angola 2\n",
      "Argentina 180\n",
      "Armenia 5\n",
      "Aruba 4\n",
      "Australia 526\n",
      "Austria 126\n",
      "Azerbaijan 1\n",
      "Bahamas 5\n",
      "Bahrain 4\n",
      "Bangladesh 31\n",
      "Belarus 4\n",
      "Belgium 538\n",
      "Bermuda 2\n",
      "Bhutan 2\n",
      "Bolivia 2\n",
      "Bosnia and Herzegovina 26\n",
      "Botswana 2\n",
      "Brazil 195\n",
      "British Virgin Islands 2\n",
      "Bulgaria 85\n",
      "Burkina Faso 1\n",
      "Cambodia 8\n",
      "Cameroon 3\n",
      "Canada 1559\n",
      "Cayman Islands 7\n",
      "Chad 1\n",
      "Chile 43\n",
      "China 498\n",
      "Colombia 30\n",
      "Costa Rica 2\n",
      "Croatia 43\n",
      "Cuba 14\n",
      "Cyprus 5\n",
      "Czech Republic 118\n",
      "Czechoslovakia 53\n",
      "Côte d'Ivoire 1\n",
      "Denmark 353\n",
      "Dominican Republic 2\n",
      "East Germany 6\n",
      "Ecuador 1\n",
      "Egypt 106\n",
      "Estonia 16\n",
      "Ethiopia 1\n",
      "Federal Republic of Yugoslavia 27\n",
      "Fiji 1\n",
      "Finland 164\n",
      "France 3265\n",
      "Georgia 17\n",
      "Germany 1618\n",
      "Ghana 2\n",
      "Greece 146\n",
      "Guadeloupe 1\n",
      "Guatemala 4\n",
      "Haiti 2\n",
      "Honduras 1\n",
      "Hong Kong 535\n",
      "Hungary 200\n",
      "Iceland 64\n",
      "India 2139\n",
      "Indonesia 43\n",
      "Iran 166\n",
      "Iraq 5\n",
      "Ireland 249\n",
      "Isle Of Man 9\n",
      "Israel 97\n",
      "Italy 1443\n",
      "Jamaica 4\n",
      "Japan 1221\n",
      "Jordan 12\n",
      "Kazakhstan 8\n",
      "Kenya 6\n",
      "Kosovo 2\n",
      "Kuwait 2\n",
      "Kyrgyzstan 1\n",
      "Laos 1\n",
      "Latvia 10\n",
      "Lebanon 17\n",
      "Liberia 1\n",
      "Libya 2\n",
      "Liechtenstein 10\n",
      "Lithuania 22\n",
      "Luxembourg 106\n",
      "Macao 1\n",
      "Malawi 1\n",
      "Malaysia 13\n",
      "Mali 1\n",
      "Malta 17\n",
      "Mauritania 1\n",
      "Mexico 357\n",
      "Monaco 14\n",
      "Mongolia 1\n",
      "Montenegro 3\n",
      "Morocco 32\n",
      "Myanmar 3\n",
      "Namibia 2\n",
      "Nepal 3\n",
      "Netherlands 332\n",
      "New Caledonia 1\n",
      "New Zealand 105\n",
      "Nigeria 6\n",
      "Norway 211\n",
      "Pakistan 31\n",
      "Palestine 9\n",
      "Panama 7\n",
      "Papua New Guinea 1\n",
      "Paraguay 2\n",
      "Peru 11\n",
      "Philippines 34\n",
      "Poland 245\n",
      "Portugal 88\n",
      "Puerto Rico 12\n",
      "Qatar 27\n",
      "Republic of North Macedonia 21\n",
      "Romania 134\n",
      "Russia 278\n",
      "Rwanda 1\n",
      "Saudi Arabia 9\n",
      "Senegal 4\n",
      "Serbia 74\n",
      "Serbia and Montenegro 1\n",
      "Singapore 34\n",
      "Slovakia 17\n",
      "Slovenia 26\n",
      "Somalia 1\n",
      "South Africa 118\n",
      "South Korea 434\n",
      "Soviet Union 141\n",
      "Spain 881\n",
      "Sri Lanka 5\n",
      "Sudan 1\n",
      "Sweden 483\n",
      "Switzerland 197\n",
      "Taiwan 105\n",
      "Tajikistan 2\n",
      "Thailand 101\n",
      "The Democratic Republic Of Congo 1\n",
      "Trinidad and Tobago 1\n",
      "Tunisia 17\n",
      "Turkey 607\n",
      "UK 3602\n",
      "USA 14298\n",
      "Uganda 1\n",
      "Ukraine 30\n",
      "United Arab Emirates 58\n",
      "Uruguay 16\n",
      "Uzbekistan 1\n",
      "Vanuatu 1\n",
      "Venezuela 10\n",
      "Vietnam 11\n",
      "West Germany 271\n",
      "Yugoslavia 74\n",
      "Zambia 2\n",
      "Zimbabwe 1\n"
     ]
    }
   ],
   "source": [
    "countries = chain.countries.value\n",
    "for country, movies in countries.items():\n",
    "    print(country, len(movies))"
   ]
  }
 ],
 "metadata": {
  "kernelspec": {
   "display_name": "Python 3",
   "language": "python",
   "name": "python3"
  },
  "language_info": {
   "codemirror_mode": {
    "name": "ipython",
    "version": 3
   },
   "file_extension": ".py",
   "mimetype": "text/x-python",
   "name": "python",
   "nbconvert_exporter": "python",
   "pygments_lexer": "ipython3",
   "version": "3.8.5"
  }
 },
 "nbformat": 4,
 "nbformat_minor": 4
}
