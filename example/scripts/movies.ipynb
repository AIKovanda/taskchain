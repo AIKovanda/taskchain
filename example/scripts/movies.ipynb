{
 "cells": [
  {
   "cell_type": "code",
   "execution_count": 1,
   "outputs": [],
   "source": [
    "%load_ext autoreload\n",
    "%autoreload 2"
   ],
   "metadata": {
    "collapsed": false,
    "pycharm": {
     "name": "#%%\n"
    }
   }
  },
  {
   "cell_type": "markdown",
   "source": [
    "# Movies"
   ],
   "metadata": {
    "collapsed": false,
    "pycharm": {
     "name": "#%% md\n"
    }
   }
  },
  {
   "cell_type": "code",
   "execution_count": 2,
   "metadata": {
    "collapsed": true
   },
   "outputs": [],
   "source": [
    "import matplotlib.pyplot as plt\n",
    "\n",
    "from movie_ratings import config\n",
    "from taskchain.task import Config"
   ]
  },
  {
   "cell_type": "code",
   "execution_count": 3,
   "outputs": [
    {
     "name": "stdout",
     "output_type": "stream",
     "text": [
      "movies              movies:movies              20210624.imdb/movies:movies\n",
      "duration_histogram  movies:duration_histogram  20210624.imdb/movies:duration_histogram\n",
      "year_histogram      movies:year_histogram      20210624.imdb/movies:year_histogram\n",
      "directors           movies:directors           20210624.imdb/movies:directors\n",
      "genres              movies:genres              20210624.imdb/movies:genres\n",
      "countries           movies:countries           20210624.imdb/movies:countries\n",
      "actors              movies:actors              20210624.imdb/movies:actors\n",
      "selected_directors  movies:selected_directors  20210624.imdb/movies:selected_directors\n",
      "selected_actors     movies:selected_actors     20210624.imdb/movies:selected_actors\n"
     ]
    }
   ],
   "source": [
    "config_name = 'movies/20210624.imdb.yaml'\n",
    "chain = Config(config.TASKS_DIR, config.CONFIGS_DIR / config_name, global_vars=config).chain()\n",
    "print(chain)"
   ],
   "metadata": {
    "collapsed": false,
    "pycharm": {
     "name": "#%%\n"
    }
   }
  },
  {
   "cell_type": "code",
   "execution_count": 4,
   "outputs": [
    {
     "data": {
      "text/plain": "              imdb_title_id                         title  \\\nimdb_title_id                                               \ntt0115864         tt0115864                     Champions   \ntt0035082         tt0035082                Ondata d'amore   \ntt0075314         tt0075314                   Taxi Driver   \ntt1949548         tt1949548                       Heroine   \ntt0091264         tt0091264  In the Shadow of Kilimanjaro   \n\n                             original_title  year date_published  \\\nimdb_title_id                                                      \ntt0115864                         Champions  1997     1997-05-23   \ntt0035082                          Moontide  1942     1948-10-02   \ntt0075314                       Taxi Driver  1976     1976-09-24   \ntt1949548                           Heroine  2012     2012-09-21   \ntt0091264      In the Shadow of Kilimanjaro  1986     1986-04-30   \n\n                                  genre  duration    country  \\\nimdb_title_id                                                  \ntt0115864                        Action        99        USA   \ntt0035082       Crime, Drama, Film-Noir        94        USA   \ntt0075314                  Crime, Drama       114        USA   \ntt1949548                         Drama       149      India   \ntt0091264      Action, Adventure, Drama        97  UK, Kenya   \n\n                       language                 director  ...  \\\nimdb_title_id                                             ...   \ntt0115864               English    Peter Gathings Bunche  ...   \ntt0035082               English  Archie Mayo, Fritz Lang  ...   \ntt0075314      English, Spanish          Martin Scorsese  ...   \ntt1949548                 Hindi        Madhur Bhandarkar  ...   \ntt0091264               English               Raju Patel  ...   \n\n                                                          actors  \\\nimdb_title_id                                                      \ntt0115864      Louis Mandylor, Danny Trejo, Ken Shamrock, Lee...   \ntt0035082      Jean Gabin, Ida Lupino, Thomas Mitchell, Claud...   \ntt0075314      Diahnne Abbott, Frank Adu, Victor Argo, Gino A...   \ntt1949548      Kareena Kapoor, Arjun Rampal, Randeep Hooda, S...   \ntt0091264      John Rhys-Davies, Timothy Bottoms, Irene Mirac...   \n\n                                                     description avg_vote  \\\nimdb_title_id                                                               \ntt0115864      William Rockman is a champion \"Terminal Combat...      4.0   \ntt0035082      In California, Bobo and his mooching 'pal' Tin...      6.9   \ntt0075314      A mentally unstable veteran works as a nightti...      8.3   \ntt1949548      A female superstar struggles through the trial...      5.1   \ntt0091264      Because of a severe drought in Kenya in 1984, ...      5.2   \n\n                votes     budget  usa_gross_income worlwide_gross_income  \\\nimdb_title_id                                                              \ntt0115864         256        NaN               NaN                   NaN   \ntt0035082        1390        NaN               NaN                   NaN   \ntt0075314      703264  $ 1300000        $ 28262574            $ 28441292   \ntt1949548        3955        NaN          $ 598668             $ 8036853   \ntt0091264         369        NaN          $ 181410                   NaN   \n\n              metascore reviews_from_users  reviews_from_critics  \nimdb_title_id                                                     \ntt0115864           NaN               10.0                   3.0  \ntt0035082           NaN               34.0                  17.0  \ntt0075314          94.0             1178.0                 289.0  \ntt1949548           NaN               39.0                  36.0  \ntt0091264           NaN               11.0                  12.0  \n\n[5 rows x 22 columns]",
      "text/html": "<div>\n<style scoped>\n    .dataframe tbody tr th:only-of-type {\n        vertical-align: middle;\n    }\n\n    .dataframe tbody tr th {\n        vertical-align: top;\n    }\n\n    .dataframe thead th {\n        text-align: right;\n    }\n</style>\n<table border=\"1\" class=\"dataframe\">\n  <thead>\n    <tr style=\"text-align: right;\">\n      <th></th>\n      <th>imdb_title_id</th>\n      <th>title</th>\n      <th>original_title</th>\n      <th>year</th>\n      <th>date_published</th>\n      <th>genre</th>\n      <th>duration</th>\n      <th>country</th>\n      <th>language</th>\n      <th>director</th>\n      <th>...</th>\n      <th>actors</th>\n      <th>description</th>\n      <th>avg_vote</th>\n      <th>votes</th>\n      <th>budget</th>\n      <th>usa_gross_income</th>\n      <th>worlwide_gross_income</th>\n      <th>metascore</th>\n      <th>reviews_from_users</th>\n      <th>reviews_from_critics</th>\n    </tr>\n    <tr>\n      <th>imdb_title_id</th>\n      <th></th>\n      <th></th>\n      <th></th>\n      <th></th>\n      <th></th>\n      <th></th>\n      <th></th>\n      <th></th>\n      <th></th>\n      <th></th>\n      <th></th>\n      <th></th>\n      <th></th>\n      <th></th>\n      <th></th>\n      <th></th>\n      <th></th>\n      <th></th>\n      <th></th>\n      <th></th>\n      <th></th>\n    </tr>\n  </thead>\n  <tbody>\n    <tr>\n      <th>tt0115864</th>\n      <td>tt0115864</td>\n      <td>Champions</td>\n      <td>Champions</td>\n      <td>1997</td>\n      <td>1997-05-23</td>\n      <td>Action</td>\n      <td>99</td>\n      <td>USA</td>\n      <td>English</td>\n      <td>Peter Gathings Bunche</td>\n      <td>...</td>\n      <td>Louis Mandylor, Danny Trejo, Ken Shamrock, Lee...</td>\n      <td>William Rockman is a champion \"Terminal Combat...</td>\n      <td>4.0</td>\n      <td>256</td>\n      <td>NaN</td>\n      <td>NaN</td>\n      <td>NaN</td>\n      <td>NaN</td>\n      <td>10.0</td>\n      <td>3.0</td>\n    </tr>\n    <tr>\n      <th>tt0035082</th>\n      <td>tt0035082</td>\n      <td>Ondata d'amore</td>\n      <td>Moontide</td>\n      <td>1942</td>\n      <td>1948-10-02</td>\n      <td>Crime, Drama, Film-Noir</td>\n      <td>94</td>\n      <td>USA</td>\n      <td>English</td>\n      <td>Archie Mayo, Fritz Lang</td>\n      <td>...</td>\n      <td>Jean Gabin, Ida Lupino, Thomas Mitchell, Claud...</td>\n      <td>In California, Bobo and his mooching 'pal' Tin...</td>\n      <td>6.9</td>\n      <td>1390</td>\n      <td>NaN</td>\n      <td>NaN</td>\n      <td>NaN</td>\n      <td>NaN</td>\n      <td>34.0</td>\n      <td>17.0</td>\n    </tr>\n    <tr>\n      <th>tt0075314</th>\n      <td>tt0075314</td>\n      <td>Taxi Driver</td>\n      <td>Taxi Driver</td>\n      <td>1976</td>\n      <td>1976-09-24</td>\n      <td>Crime, Drama</td>\n      <td>114</td>\n      <td>USA</td>\n      <td>English, Spanish</td>\n      <td>Martin Scorsese</td>\n      <td>...</td>\n      <td>Diahnne Abbott, Frank Adu, Victor Argo, Gino A...</td>\n      <td>A mentally unstable veteran works as a nightti...</td>\n      <td>8.3</td>\n      <td>703264</td>\n      <td>$ 1300000</td>\n      <td>$ 28262574</td>\n      <td>$ 28441292</td>\n      <td>94.0</td>\n      <td>1178.0</td>\n      <td>289.0</td>\n    </tr>\n    <tr>\n      <th>tt1949548</th>\n      <td>tt1949548</td>\n      <td>Heroine</td>\n      <td>Heroine</td>\n      <td>2012</td>\n      <td>2012-09-21</td>\n      <td>Drama</td>\n      <td>149</td>\n      <td>India</td>\n      <td>Hindi</td>\n      <td>Madhur Bhandarkar</td>\n      <td>...</td>\n      <td>Kareena Kapoor, Arjun Rampal, Randeep Hooda, S...</td>\n      <td>A female superstar struggles through the trial...</td>\n      <td>5.1</td>\n      <td>3955</td>\n      <td>NaN</td>\n      <td>$ 598668</td>\n      <td>$ 8036853</td>\n      <td>NaN</td>\n      <td>39.0</td>\n      <td>36.0</td>\n    </tr>\n    <tr>\n      <th>tt0091264</th>\n      <td>tt0091264</td>\n      <td>In the Shadow of Kilimanjaro</td>\n      <td>In the Shadow of Kilimanjaro</td>\n      <td>1986</td>\n      <td>1986-04-30</td>\n      <td>Action, Adventure, Drama</td>\n      <td>97</td>\n      <td>UK, Kenya</td>\n      <td>English</td>\n      <td>Raju Patel</td>\n      <td>...</td>\n      <td>John Rhys-Davies, Timothy Bottoms, Irene Mirac...</td>\n      <td>Because of a severe drought in Kenya in 1984, ...</td>\n      <td>5.2</td>\n      <td>369</td>\n      <td>NaN</td>\n      <td>$ 181410</td>\n      <td>NaN</td>\n      <td>NaN</td>\n      <td>11.0</td>\n      <td>12.0</td>\n    </tr>\n  </tbody>\n</table>\n<p>5 rows × 22 columns</p>\n</div>"
     },
     "execution_count": 4,
     "metadata": {},
     "output_type": "execute_result"
    }
   ],
   "source": [
    "chain.movies.value.sample(5)"
   ],
   "metadata": {
    "collapsed": false,
    "pycharm": {
     "name": "#%%\n"
    }
   }
  },
  {
   "cell_type": "code",
   "execution_count": 5,
   "outputs": [
    {
     "data": {
      "text/plain": "Index(['imdb_title_id', 'title', 'original_title', 'year', 'date_published',\n       'genre', 'duration', 'country', 'language', 'director', 'writer',\n       'production_company', 'actors', 'description', 'avg_vote', 'votes',\n       'budget', 'usa_gross_income', 'worlwide_gross_income', 'metascore',\n       'reviews_from_users', 'reviews_from_critics'],\n      dtype='object')"
     },
     "execution_count": 5,
     "metadata": {},
     "output_type": "execute_result"
    }
   ],
   "source": [
    "\n",
    "chain.movies.value.columns"
   ],
   "metadata": {
    "collapsed": false,
    "pycharm": {
     "name": "#%%\n"
    }
   }
  },
  {
   "cell_type": "markdown",
   "source": [
    "### Top movies"
   ],
   "metadata": {
    "collapsed": false,
    "pycharm": {
     "name": "#%% md\n"
    }
   }
  },
  {
   "cell_type": "code",
   "execution_count": 7,
   "outputs": [
    {
     "data": {
      "text/plain": "              imdb_title_id                  title            original_title  \\\nimdb_title_id                                                                  \ntt0111161         tt0111161   Le ali della libertà  The Shawshank Redemption   \ntt0068646         tt0068646             Il padrino             The Godfather   \ntt0468569         tt0468569    Il cavaliere oscuro           The Dark Knight   \ntt0071562         tt0071562  Il padrino - Parte II    The Godfather: Part II   \ntt0110912         tt0110912           Pulp Fiction              Pulp Fiction   \n\n               year date_published                 genre  duration  country  \\\nimdb_title_id                                                                 \ntt0111161      1994     1995-02-10                 Drama       142      USA   \ntt0068646      1972     1972-09-21          Crime, Drama       175      USA   \ntt0468569      2008     2008-07-23  Action, Crime, Drama       152  USA, UK   \ntt0071562      1974     1975-09-25          Crime, Drama       202      USA   \ntt0110912      1994     1994-10-28          Crime, Drama       154      USA   \n\n                                                 language  \\\nimdb_title_id                                               \ntt0111161                                         English   \ntt0068646                         English, Italian, Latin   \ntt0468569                               English, Mandarin   \ntt0071562      English, Italian, Spanish, Latin, Sicilian   \ntt0110912                        English, Spanish, French   \n\n                           director  ...  \\\nimdb_title_id                        ...   \ntt0111161            Frank Darabont  ...   \ntt0068646      Francis Ford Coppola  ...   \ntt0468569         Christopher Nolan  ...   \ntt0071562      Francis Ford Coppola  ...   \ntt0110912         Quentin Tarantino  ...   \n\n                                                          actors  \\\nimdb_title_id                                                      \ntt0111161      Tim Robbins, Morgan Freeman, Bob Gunton, Willi...   \ntt0068646      Marlon Brando, Al Pacino, James Caan, Richard ...   \ntt0468569      Christian Bale, Heath Ledger, Aaron Eckhart, M...   \ntt0071562      Al Pacino, Robert Duvall, Diane Keaton, Robert...   \ntt0110912      Tim Roth, Amanda Plummer, Laura Lovelace, John...   \n\n                                                     description avg_vote  \\\nimdb_title_id                                                               \ntt0111161      Two imprisoned men bond over a number of years...      9.3   \ntt0068646      The aging patriarch of an organized crime dyna...      9.2   \ntt0468569      When the menace known as the Joker wreaks havo...      9.0   \ntt0071562      The early life and career of Vito Corleone in ...      9.0   \ntt0110912      The lives of two mob hitmen, a boxer, a gangst...      8.9   \n\n                 votes       budget  usa_gross_income worlwide_gross_income  \\\nimdb_title_id                                                                 \ntt0111161      2278845   $ 25000000        $ 28699976            $ 28815245   \ntt0068646      1572674    $ 6000000       $ 134966411           $ 246120974   \ntt0468569      2241615  $ 185000000       $ 535234033          $ 1005455211   \ntt0071562      1098714   $ 13000000        $ 47834595            $ 48035783   \ntt0110912      1780147    $ 8000000       $ 107928762           $ 222831817   \n\n              metascore reviews_from_users  reviews_from_critics  \nimdb_title_id                                                     \ntt0111161          80.0             8232.0                 164.0  \ntt0068646         100.0             3977.0                 253.0  \ntt0468569          84.0             6938.0                 423.0  \ntt0071562          90.0             1030.0                 178.0  \ntt0110912          94.0             3058.0                 289.0  \n\n[5 rows x 22 columns]",
      "text/html": "<div>\n<style scoped>\n    .dataframe tbody tr th:only-of-type {\n        vertical-align: middle;\n    }\n\n    .dataframe tbody tr th {\n        vertical-align: top;\n    }\n\n    .dataframe thead th {\n        text-align: right;\n    }\n</style>\n<table border=\"1\" class=\"dataframe\">\n  <thead>\n    <tr style=\"text-align: right;\">\n      <th></th>\n      <th>imdb_title_id</th>\n      <th>title</th>\n      <th>original_title</th>\n      <th>year</th>\n      <th>date_published</th>\n      <th>genre</th>\n      <th>duration</th>\n      <th>country</th>\n      <th>language</th>\n      <th>director</th>\n      <th>...</th>\n      <th>actors</th>\n      <th>description</th>\n      <th>avg_vote</th>\n      <th>votes</th>\n      <th>budget</th>\n      <th>usa_gross_income</th>\n      <th>worlwide_gross_income</th>\n      <th>metascore</th>\n      <th>reviews_from_users</th>\n      <th>reviews_from_critics</th>\n    </tr>\n    <tr>\n      <th>imdb_title_id</th>\n      <th></th>\n      <th></th>\n      <th></th>\n      <th></th>\n      <th></th>\n      <th></th>\n      <th></th>\n      <th></th>\n      <th></th>\n      <th></th>\n      <th></th>\n      <th></th>\n      <th></th>\n      <th></th>\n      <th></th>\n      <th></th>\n      <th></th>\n      <th></th>\n      <th></th>\n      <th></th>\n      <th></th>\n    </tr>\n  </thead>\n  <tbody>\n    <tr>\n      <th>tt0111161</th>\n      <td>tt0111161</td>\n      <td>Le ali della libertà</td>\n      <td>The Shawshank Redemption</td>\n      <td>1994</td>\n      <td>1995-02-10</td>\n      <td>Drama</td>\n      <td>142</td>\n      <td>USA</td>\n      <td>English</td>\n      <td>Frank Darabont</td>\n      <td>...</td>\n      <td>Tim Robbins, Morgan Freeman, Bob Gunton, Willi...</td>\n      <td>Two imprisoned men bond over a number of years...</td>\n      <td>9.3</td>\n      <td>2278845</td>\n      <td>$ 25000000</td>\n      <td>$ 28699976</td>\n      <td>$ 28815245</td>\n      <td>80.0</td>\n      <td>8232.0</td>\n      <td>164.0</td>\n    </tr>\n    <tr>\n      <th>tt0068646</th>\n      <td>tt0068646</td>\n      <td>Il padrino</td>\n      <td>The Godfather</td>\n      <td>1972</td>\n      <td>1972-09-21</td>\n      <td>Crime, Drama</td>\n      <td>175</td>\n      <td>USA</td>\n      <td>English, Italian, Latin</td>\n      <td>Francis Ford Coppola</td>\n      <td>...</td>\n      <td>Marlon Brando, Al Pacino, James Caan, Richard ...</td>\n      <td>The aging patriarch of an organized crime dyna...</td>\n      <td>9.2</td>\n      <td>1572674</td>\n      <td>$ 6000000</td>\n      <td>$ 134966411</td>\n      <td>$ 246120974</td>\n      <td>100.0</td>\n      <td>3977.0</td>\n      <td>253.0</td>\n    </tr>\n    <tr>\n      <th>tt0468569</th>\n      <td>tt0468569</td>\n      <td>Il cavaliere oscuro</td>\n      <td>The Dark Knight</td>\n      <td>2008</td>\n      <td>2008-07-23</td>\n      <td>Action, Crime, Drama</td>\n      <td>152</td>\n      <td>USA, UK</td>\n      <td>English, Mandarin</td>\n      <td>Christopher Nolan</td>\n      <td>...</td>\n      <td>Christian Bale, Heath Ledger, Aaron Eckhart, M...</td>\n      <td>When the menace known as the Joker wreaks havo...</td>\n      <td>9.0</td>\n      <td>2241615</td>\n      <td>$ 185000000</td>\n      <td>$ 535234033</td>\n      <td>$ 1005455211</td>\n      <td>84.0</td>\n      <td>6938.0</td>\n      <td>423.0</td>\n    </tr>\n    <tr>\n      <th>tt0071562</th>\n      <td>tt0071562</td>\n      <td>Il padrino - Parte II</td>\n      <td>The Godfather: Part II</td>\n      <td>1974</td>\n      <td>1975-09-25</td>\n      <td>Crime, Drama</td>\n      <td>202</td>\n      <td>USA</td>\n      <td>English, Italian, Spanish, Latin, Sicilian</td>\n      <td>Francis Ford Coppola</td>\n      <td>...</td>\n      <td>Al Pacino, Robert Duvall, Diane Keaton, Robert...</td>\n      <td>The early life and career of Vito Corleone in ...</td>\n      <td>9.0</td>\n      <td>1098714</td>\n      <td>$ 13000000</td>\n      <td>$ 47834595</td>\n      <td>$ 48035783</td>\n      <td>90.0</td>\n      <td>1030.0</td>\n      <td>178.0</td>\n    </tr>\n    <tr>\n      <th>tt0110912</th>\n      <td>tt0110912</td>\n      <td>Pulp Fiction</td>\n      <td>Pulp Fiction</td>\n      <td>1994</td>\n      <td>1994-10-28</td>\n      <td>Crime, Drama</td>\n      <td>154</td>\n      <td>USA</td>\n      <td>English, Spanish, French</td>\n      <td>Quentin Tarantino</td>\n      <td>...</td>\n      <td>Tim Roth, Amanda Plummer, Laura Lovelace, John...</td>\n      <td>The lives of two mob hitmen, a boxer, a gangst...</td>\n      <td>8.9</td>\n      <td>1780147</td>\n      <td>$ 8000000</td>\n      <td>$ 107928762</td>\n      <td>$ 222831817</td>\n      <td>94.0</td>\n      <td>3058.0</td>\n      <td>289.0</td>\n    </tr>\n  </tbody>\n</table>\n<p>5 rows × 22 columns</p>\n</div>"
     },
     "execution_count": 7,
     "metadata": {},
     "output_type": "execute_result"
    }
   ],
   "source": [
    "min_votes = 10 ** 3\n",
    "chain.movies.value\\\n",
    "    .query(f'reviews_from_users > {min_votes}')\\\n",
    "    .sort_values('avg_vote', ascending=False)\\\n",
    "    .head()"
   ],
   "metadata": {
    "collapsed": false,
    "pycharm": {
     "name": "#%%\n"
    }
   }
  },
  {
   "cell_type": "code",
   "execution_count": 8,
   "outputs": [
    {
     "data": {
      "text/plain": "<Figure size 432x288 with 0 Axes>"
     },
     "execution_count": 8,
     "metadata": {},
     "output_type": "execute_result"
    }
   ],
   "source": [
    "chain.duration_histogram.value"
   ],
   "metadata": {
    "collapsed": false,
    "pycharm": {
     "name": "#%%\n"
    }
   }
  },
  {
   "cell_type": "code",
   "execution_count": 12,
   "outputs": [
    {
     "name": "stderr",
     "output_type": "stream",
     "text": [
      "/home/thran/miniconda3/envs/taskchain/lib/python3.8/site-packages/seaborn-0.11.1-py3.8.egg/seaborn/distributions.py:2557: FutureWarning: `distplot` is a deprecated function and will be removed in a future version. Please adapt your code to use either `displot` (a figure-level function with similar flexibility) or `histplot` (an axes-level function for histograms).\n",
      "  warnings.warn(msg, FutureWarning)\n"
     ]
    },
    {
     "data": {
      "text/plain": "<Figure size 432x288 with 0 Axes>"
     },
     "execution_count": 12,
     "metadata": {},
     "output_type": "execute_result"
    },
    {
     "data": {
      "text/plain": "<Figure size 432x288 with 1 Axes>",
      "image/png": "[encoded data removed]"
     },
     "metadata": {
      "needs_background": "light"
     },
     "output_type": "display_data"
    }
   ],
   "source": [
    "chain.year_histogram.value"
   ],
   "metadata": {
    "collapsed": false,
    "pycharm": {
     "name": "#%%\n"
    }
   }
  },
  {
   "cell_type": "markdown",
   "source": [
    "## Directors"
   ],
   "metadata": {
    "collapsed": false,
    "pycharm": {
     "name": "#%% md\n"
    }
   }
  },
  {
   "cell_type": "code",
   "execution_count": 6,
   "outputs": [
    {
     "data": {
      "text/plain": "34707"
     },
     "execution_count": 6,
     "metadata": {},
     "output_type": "execute_result"
    }
   ],
   "source": [
    "len(chain.directors.value)"
   ],
   "metadata": {
    "collapsed": false,
    "pycharm": {
     "name": "#%%\n"
    }
   }
  },
  {
   "cell_type": "code",
   "execution_count": 8,
   "outputs": [
    {
     "data": {
      "text/plain": "770"
     },
     "execution_count": 8,
     "metadata": {},
     "output_type": "execute_result"
    }
   ],
   "source": [
    "len(chain.selected_directors.value)"
   ],
   "metadata": {
    "collapsed": false,
    "pycharm": {
     "name": "#%%\n"
    }
   }
  },
  {
   "cell_type": "markdown",
   "source": [
    "## Actors"
   ],
   "metadata": {
    "collapsed": false,
    "pycharm": {
     "name": "#%% md\n"
    }
   }
  },
  {
   "cell_type": "code",
   "execution_count": 19,
   "outputs": [
    {
     "data": {
      "text/plain": "417320"
     },
     "execution_count": 19,
     "metadata": {},
     "output_type": "execute_result"
    }
   ],
   "source": [
    "len(chain.actors.value)"
   ],
   "metadata": {
    "collapsed": false,
    "pycharm": {
     "name": "#%%\n"
    }
   }
  },
  {
   "cell_type": "code",
   "execution_count": 26,
   "outputs": [
    {
     "data": {
      "text/plain": "7802"
     },
     "execution_count": 26,
     "metadata": {},
     "output_type": "execute_result"
    }
   ],
   "source": [
    "len(chain.selected_actors.value)"
   ],
   "metadata": {
    "collapsed": false,
    "pycharm": {
     "name": "#%%\n"
    }
   }
  },
  {
   "cell_type": "markdown",
   "source": [
    "## Genres"
   ],
   "metadata": {
    "collapsed": false,
    "pycharm": {
     "name": "#%% md\n"
    }
   }
  },
  {
   "cell_type": "code",
   "execution_count": 10,
   "outputs": [
    {
     "name": "stdout",
     "output_type": "stream",
     "text": [
      "Romance 14128\n",
      "Biography 2377\n",
      "Crime 11067\n",
      "Drama 47110\n",
      "History 2296\n",
      "Adventure 7590\n",
      "Fantasy 3812\n",
      "War 2242\n",
      "Mystery 5225\n",
      "Horror 9557\n",
      "Western 1583\n",
      "Comedy 29368\n",
      "Family 3962\n",
      "Action 12948\n",
      "Sci-Fi 3608\n",
      "Thriller 11388\n",
      "Sport 1064\n",
      "Animation 2141\n",
      "Musical 2041\n",
      "Music 1689\n",
      "Film-Noir 663\n",
      "Adult 2\n",
      "Documentary 2\n",
      "Reality-TV 3\n",
      "News 1\n"
     ]
    }
   ],
   "source": [
    "genres = chain.genres.value\n",
    "for genres, movies in genres.items():\n",
    "    print(genres, len(movies))"
   ],
   "metadata": {
    "collapsed": false,
    "pycharm": {
     "name": "#%%\n"
    }
   }
  },
  {
   "cell_type": "markdown",
   "source": [
    "## Countries\n"
   ],
   "metadata": {
    "collapsed": false,
    "pycharm": {
     "name": "#%% md\n"
    }
   }
  },
  {
   "cell_type": "code",
   "execution_count": 14,
   "outputs": [
    {
     "name": "stdout",
     "output_type": "stream",
     "text": [
      "USA 34325\n",
      "Australia 1181\n",
      "Germany 3721\n",
      "Denmark 1026\n",
      "Italy 5056\n",
      "Romania 493\n",
      "France 8311\n",
      "Sweden 1229\n",
      "Belgium 1354\n",
      "Canada 3621\n",
      "Hungary 642\n",
      "Russia 1083\n",
      "Mexico 1173\n",
      "Norway 639\n",
      "Japan 3701\n",
      "Austria 448\n",
      "UK 7490\n",
      "Soviet Union 866\n",
      "Chile 227\n",
      "India 6373\n",
      "Switzerland 636\n",
      "China 1166\n",
      "Hong Kong 1884\n",
      "Spain 2731\n",
      "Czechoslovakia 313\n",
      "Isle Of Man 12\n",
      "Brazil 979\n",
      "Portugal 429\n",
      "Turkey 1552\n",
      "Argentina 853\n",
      "Poland 902\n",
      "Netherlands 1031\n",
      "Finland 676\n",
      "West Germany 1114\n",
      "Yugoslavia 395\n",
      "Greece 769\n",
      "East Germany 74\n",
      "Egypt 479\n",
      "Albania 40\n",
      "Bulgaria 272\n",
      "Monaco 26\n",
      "New Zealand 238\n",
      "Israel 362\n",
      "Cuba 72\n",
      "Ireland 476\n",
      "Philippines 384\n",
      "South Korea 1299\n",
      "Liechtenstein 21\n",
      "Croatia 208\n",
      "South Africa 330\n",
      "Puerto Rico 38\n",
      "Malta 29\n",
      "Algeria 47\n",
      "Lebanon 65\n",
      "Sri Lanka 40\n",
      "Afghanistan 16\n",
      "Morocco 78\n",
      "Kyrgyzstan 14\n",
      "Singapore 125\n",
      "Taiwan 419\n",
      "Senegal 26\n",
      "Bolivia 25\n",
      "Bermuda 2\n",
      "Ukraine 141\n",
      "Mauritania 5\n",
      "Iran 744\n",
      "Thailand 361\n",
      "Iceland 163\n",
      "Luxembourg 244\n",
      "Georgia 60\n",
      "Venezuela 64\n",
      "Peru 76\n",
      "Panama 16\n",
      "Tunisia 54\n",
      "Haiti 7\n",
      "Cameroon 4\n",
      "Syria 9\n",
      "Angola 8\n",
      "Jamaica 13\n",
      "Ecuador 17\n",
      "Andorra 3\n",
      "Colombia 183\n",
      "Bangladesh 117\n",
      "Ethiopia 9\n",
      "Indonesia 282\n",
      "Libya 2\n",
      "Kuwait 5\n",
      "Saudi Arabia 14\n",
      "Côte d'Ivoire 6\n",
      "Malaysia 106\n",
      "Suriname 1\n",
      "Mali 6\n",
      "Vietnam 64\n",
      "Cyprus 30\n",
      "Botswana 2\n",
      "Nigeria 35\n",
      "Kenya 17\n",
      "Dominican Republic 55\n",
      "Nicaragua 2\n",
      "Costa Rica 23\n",
      "Zambia 3\n",
      "Burkina Faso 15\n",
      "Bahamas 12\n",
      "Iraq 24\n",
      "Aruba 5\n",
      "Martinique 3\n",
      "Mongolia 12\n",
      "Gabon 1\n",
      "North Korea 6\n",
      "Netherlands Antilles 5\n",
      "Gibraltar 1\n",
      "Palestine 28\n",
      "Zaire 2\n",
      "Ghana 8\n",
      "Zimbabwe 2\n",
      "Namibia 2\n",
      "Uzbekistan 4\n",
      "Lithuania 108\n",
      "Armenia 21\n",
      "Latvia 71\n",
      "Federal Republic of Yugoslavia 73\n",
      "Slovenia 116\n",
      "Kazakhstan 44\n",
      "Uruguay 60\n",
      "Slovakia 103\n",
      "Estonia 114\n",
      "Guinea-Bissau 1\n",
      "Czech Republic 441\n",
      "Tajikistan 6\n",
      "Belarus 12\n",
      "Cambodia 20\n",
      "Guinea 2\n",
      "Republic of North Macedonia 73\n",
      "Guatemala 12\n",
      "Bosnia and Herzegovina 83\n",
      "Cape Verde 2\n",
      "Svalbard And Jan Mayen 1\n",
      "Niger 2\n",
      "Greenland 5\n",
      "The Democratic Republic Of Congo 3\n",
      "Pakistan 91\n",
      "Paraguay 6\n",
      "Bhutan 7\n",
      "Faroe Islands 1\n",
      "Nepal 31\n",
      "Mozambique 3\n",
      "Serbia 218\n",
      "United Arab Emirates 106\n",
      "Trinidad and Tobago 8\n",
      "Moldova 6\n",
      "Jordan 27\n",
      "Chad 4\n",
      "North Vietnam 1\n",
      "Bahrain 4\n",
      "Serbia and Montenegro 7\n",
      "Fiji 3\n",
      "Cayman Islands 7\n",
      "Kosovo 17\n",
      "Macao 4\n",
      "Yemen 4\n",
      "Qatar 71\n",
      "British Virgin Islands 2\n",
      "Azerbaijan 25\n",
      "Myanmar 7\n",
      "Rwanda 4\n",
      "Uganda 4\n",
      "Liberia 2\n",
      "Lesotho 2\n",
      "Montenegro 15\n",
      "Mauritius 1\n",
      "New Caledonia 1\n",
      "Papua New Guinea 1\n",
      "Honduras 3\n",
      "Reunion 2\n",
      "Samoa 2\n",
      "Korea 1\n",
      "Swaziland 1\n",
      "Laos 3\n",
      "Equatorial Guinea 1\n",
      "Sudan 3\n",
      "Tanzania 1\n",
      "Brunei 2\n",
      "Burma 1\n",
      "Somalia 2\n",
      "El Salvador 1\n",
      "Vanuatu 1\n",
      "Belize 1\n",
      "Cook Islands 1\n",
      "Maldives 1\n",
      "Djibouti 1\n",
      "Guadeloupe 1\n",
      "Malawi 1\n",
      "Holy See (Vatican City State) 1\n",
      "Oman 1\n"
     ]
    }
   ],
   "source": [
    "countries = chain.countries.value\n",
    "for country, movies in countries.items():\n",
    "    print(country, len(movies))"
   ],
   "metadata": {
    "collapsed": false,
    "pycharm": {
     "name": "#%%\n"
    }
   }
  },
  {
   "cell_type": "code",
   "execution_count": null,
   "outputs": [],
   "source": [],
   "metadata": {
    "collapsed": false,
    "pycharm": {
     "name": "#%%\n"
    }
   }
  }
 ],
 "metadata": {
  "kernelspec": {
   "display_name": "Python 3",
   "language": "python",
   "name": "python3"
  },
  "language_info": {
   "codemirror_mode": {
    "name": "ipython",
    "version": 2
   },
   "file_extension": ".py",
   "mimetype": "text/x-python",
   "name": "python",
   "nbconvert_exporter": "python",
   "pygments_lexer": "ipython2",
   "version": "2.7.6"
  }
 },
 "nbformat": 4,
 "nbformat_minor": 0
}